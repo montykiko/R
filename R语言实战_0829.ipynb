{
 "cells": [
  {
   "cell_type": "markdown",
   "metadata": {},
   "source": [
    "# 创建leadership数据框"
   ]
  },
  {
   "cell_type": "code",
   "execution_count": 2,
   "metadata": {},
   "outputs": [
    {
     "data": {
      "text/html": [
       "<table>\n",
       "<thead><tr><th scope=col>manager</th><th scope=col>date</th><th scope=col>country</th><th scope=col>gender</th><th scope=col>age</th><th scope=col>q1</th><th scope=col>q2</th><th scope=col>q3</th><th scope=col>q4</th><th scope=col>q5</th><th scope=col>stringAsFactors</th></tr></thead>\n",
       "<tbody>\n",
       "\t<tr><td>1       </td><td>10/24/08</td><td>US      </td><td>M       </td><td>32      </td><td>5       </td><td>4       </td><td>5       </td><td> 5      </td><td> 5      </td><td>FALSE   </td></tr>\n",
       "\t<tr><td>2       </td><td>10/28/08</td><td>US      </td><td>F       </td><td>45      </td><td>3       </td><td>5       </td><td>2       </td><td> 5      </td><td> 5      </td><td>FALSE   </td></tr>\n",
       "\t<tr><td>3       </td><td>10/1/08 </td><td>UK      </td><td>F       </td><td>25      </td><td>3       </td><td>5       </td><td>5       </td><td> 5      </td><td> 2      </td><td>FALSE   </td></tr>\n",
       "\t<tr><td>4       </td><td>10/12/08</td><td>UK      </td><td>M       </td><td>39      </td><td>3       </td><td>3       </td><td>4       </td><td>NA      </td><td>NA      </td><td>FALSE   </td></tr>\n",
       "\t<tr><td>5       </td><td>5/1/09  </td><td>UK      </td><td>F       </td><td>99      </td><td>2       </td><td>2       </td><td>1       </td><td> 2      </td><td> 1      </td><td>FALSE   </td></tr>\n",
       "</tbody>\n",
       "</table>\n"
      ],
      "text/latex": [
       "\\begin{tabular}{r|lllllllllll}\n",
       " manager & date & country & gender & age & q1 & q2 & q3 & q4 & q5 & stringAsFactors\\\\\n",
       "\\hline\n",
       "\t 1        & 10/24/08 & US       & M        & 32       & 5        & 4        & 5        &  5       &  5       & FALSE   \\\\\n",
       "\t 2        & 10/28/08 & US       & F        & 45       & 3        & 5        & 2        &  5       &  5       & FALSE   \\\\\n",
       "\t 3        & 10/1/08  & UK       & F        & 25       & 3        & 5        & 5        &  5       &  2       & FALSE   \\\\\n",
       "\t 4        & 10/12/08 & UK       & M        & 39       & 3        & 3        & 4        & NA       & NA       & FALSE   \\\\\n",
       "\t 5        & 5/1/09   & UK       & F        & 99       & 2        & 2        & 1        &  2       &  1       & FALSE   \\\\\n",
       "\\end{tabular}\n"
      ],
      "text/markdown": [
       "\n",
       "manager | date | country | gender | age | q1 | q2 | q3 | q4 | q5 | stringAsFactors | \n",
       "|---|---|---|---|---|\n",
       "| 1        | 10/24/08 | US       | M        | 32       | 5        | 4        | 5        |  5       |  5       | FALSE    | \n",
       "| 2        | 10/28/08 | US       | F        | 45       | 3        | 5        | 2        |  5       |  5       | FALSE    | \n",
       "| 3        | 10/1/08  | UK       | F        | 25       | 3        | 5        | 5        |  5       |  2       | FALSE    | \n",
       "| 4        | 10/12/08 | UK       | M        | 39       | 3        | 3        | 4        | NA       | NA       | FALSE    | \n",
       "| 5        | 5/1/09   | UK       | F        | 99       | 2        | 2        | 1        |  2       |  1       | FALSE    | \n",
       "\n",
       "\n"
      ],
      "text/plain": [
       "  manager date     country gender age q1 q2 q3 q4 q5 stringAsFactors\n",
       "1 1       10/24/08 US      M      32  5  4  5   5  5 FALSE          \n",
       "2 2       10/28/08 US      F      45  3  5  2   5  5 FALSE          \n",
       "3 3       10/1/08  UK      F      25  3  5  5   5  2 FALSE          \n",
       "4 4       10/12/08 UK      M      39  3  3  4  NA NA FALSE          \n",
       "5 5       5/1/09   UK      F      99  2  2  1   2  1 FALSE          "
      ]
     },
     "metadata": {},
     "output_type": "display_data"
    }
   ],
   "source": [
    "manager <- c(1,2,3,4,5)\n",
    "date <- c(\"10/24/08\",\"10/28/08\",\"10/1/08\",\"10/12/08\",\"5/1/09\")\n",
    "country <- c(\"US\",\"US\",\"UK\",\"UK\",\"UK\")\n",
    "gender <- c(\"M\",\"F\",\"F\",\"M\",\"F\")\n",
    "age <- c(32,45,25,39,99)\n",
    "q1 <- c(5,3,3,3,2)\n",
    "q2 <- c(4,5,5,3,2)\n",
    "q3 <- c(5,2,5,4,1)\n",
    "q4 <- c(5,5,5,NA,2)\n",
    "q5 <- c(5,5,2,NA,1)\n",
    "\n",
    "leadership <- data.frame(manager,date,country,gender,age,\n",
    "                        q1,q2,q3,q4,q5,stringAsFactors=FALSE)\n",
    "leadership"
   ]
  },
  {
   "cell_type": "markdown",
   "metadata": {},
   "source": [
    "# 创建新变量"
   ]
  },
  {
   "cell_type": "code",
   "execution_count": 5,
   "metadata": {},
   "outputs": [
    {
     "data": {
      "text/html": [
       "<table>\n",
       "<thead><tr><th scope=col>x1</th><th scope=col>x2</th></tr></thead>\n",
       "<tbody>\n",
       "\t<tr><td>2</td><td>3</td></tr>\n",
       "\t<tr><td>2</td><td>4</td></tr>\n",
       "\t<tr><td>6</td><td>2</td></tr>\n",
       "\t<tr><td>4</td><td>8</td></tr>\n",
       "</tbody>\n",
       "</table>\n"
      ],
      "text/latex": [
       "\\begin{tabular}{r|ll}\n",
       " x1 & x2\\\\\n",
       "\\hline\n",
       "\t 2 & 3\\\\\n",
       "\t 2 & 4\\\\\n",
       "\t 6 & 2\\\\\n",
       "\t 4 & 8\\\\\n",
       "\\end{tabular}\n"
      ],
      "text/markdown": [
       "\n",
       "x1 | x2 | \n",
       "|---|---|---|---|\n",
       "| 2 | 3 | \n",
       "| 2 | 4 | \n",
       "| 6 | 2 | \n",
       "| 4 | 8 | \n",
       "\n",
       "\n"
      ],
      "text/plain": [
       "  x1 x2\n",
       "1 2  3 \n",
       "2 2  4 \n",
       "3 6  2 \n",
       "4 4  8 "
      ]
     },
     "metadata": {},
     "output_type": "display_data"
    }
   ],
   "source": [
    "mydata <- data.frame(x1 = c(2,2,6,4),\n",
    "                    x2 = c(3,4,2,8))\n",
    "mydata"
   ]
  },
  {
   "cell_type": "markdown",
   "metadata": {},
   "source": [
    "## 法一"
   ]
  },
  {
   "cell_type": "code",
   "execution_count": 6,
   "metadata": {},
   "outputs": [
    {
     "data": {
      "text/html": [
       "<table>\n",
       "<thead><tr><th scope=col>x1</th><th scope=col>x2</th><th scope=col>sum</th><th scope=col>meanx</th></tr></thead>\n",
       "<tbody>\n",
       "\t<tr><td>2  </td><td>3  </td><td> 5 </td><td>2.5</td></tr>\n",
       "\t<tr><td>2  </td><td>4  </td><td> 6 </td><td>3.0</td></tr>\n",
       "\t<tr><td>6  </td><td>2  </td><td> 8 </td><td>4.0</td></tr>\n",
       "\t<tr><td>4  </td><td>8  </td><td>12 </td><td>6.0</td></tr>\n",
       "</tbody>\n",
       "</table>\n"
      ],
      "text/latex": [
       "\\begin{tabular}{r|llll}\n",
       " x1 & x2 & sum & meanx\\\\\n",
       "\\hline\n",
       "\t 2   & 3   &  5  & 2.5\\\\\n",
       "\t 2   & 4   &  6  & 3.0\\\\\n",
       "\t 6   & 2   &  8  & 4.0\\\\\n",
       "\t 4   & 8   & 12  & 6.0\\\\\n",
       "\\end{tabular}\n"
      ],
      "text/markdown": [
       "\n",
       "x1 | x2 | sum | meanx | \n",
       "|---|---|---|---|\n",
       "| 2   | 3   |  5  | 2.5 | \n",
       "| 2   | 4   |  6  | 3.0 | \n",
       "| 6   | 2   |  8  | 4.0 | \n",
       "| 4   | 8   | 12  | 6.0 | \n",
       "\n",
       "\n"
      ],
      "text/plain": [
       "  x1 x2 sum meanx\n",
       "1 2  3   5  2.5  \n",
       "2 2  4   6  3.0  \n",
       "3 6  2   8  4.0  \n",
       "4 4  8  12  6.0  "
      ]
     },
     "metadata": {},
     "output_type": "display_data"
    }
   ],
   "source": [
    "mydata$sum <- mydata$x1 + mydata$x2\n",
    "mydata$meanx <- (mydata$x1 + mydata$x2)/2\n",
    "mydata"
   ]
  },
  {
   "cell_type": "markdown",
   "metadata": {},
   "source": [
    "## 法二"
   ]
  },
  {
   "cell_type": "code",
   "execution_count": 7,
   "metadata": {},
   "outputs": [
    {
     "data": {
      "text/html": [
       "<table>\n",
       "<thead><tr><th scope=col>x1</th><th scope=col>x2</th><th scope=col>sum</th><th scope=col>meanx</th></tr></thead>\n",
       "<tbody>\n",
       "\t<tr><td>2  </td><td>3  </td><td> 5 </td><td>2.5</td></tr>\n",
       "\t<tr><td>2  </td><td>4  </td><td> 6 </td><td>3.0</td></tr>\n",
       "\t<tr><td>6  </td><td>2  </td><td> 8 </td><td>4.0</td></tr>\n",
       "\t<tr><td>4  </td><td>8  </td><td>12 </td><td>6.0</td></tr>\n",
       "</tbody>\n",
       "</table>\n"
      ],
      "text/latex": [
       "\\begin{tabular}{r|llll}\n",
       " x1 & x2 & sum & meanx\\\\\n",
       "\\hline\n",
       "\t 2   & 3   &  5  & 2.5\\\\\n",
       "\t 2   & 4   &  6  & 3.0\\\\\n",
       "\t 6   & 2   &  8  & 4.0\\\\\n",
       "\t 4   & 8   & 12  & 6.0\\\\\n",
       "\\end{tabular}\n"
      ],
      "text/markdown": [
       "\n",
       "x1 | x2 | sum | meanx | \n",
       "|---|---|---|---|\n",
       "| 2   | 3   |  5  | 2.5 | \n",
       "| 2   | 4   |  6  | 3.0 | \n",
       "| 6   | 2   |  8  | 4.0 | \n",
       "| 4   | 8   | 12  | 6.0 | \n",
       "\n",
       "\n"
      ],
      "text/plain": [
       "  x1 x2 sum meanx\n",
       "1 2  3   5  2.5  \n",
       "2 2  4   6  3.0  \n",
       "3 6  2   8  4.0  \n",
       "4 4  8  12  6.0  "
      ]
     },
     "metadata": {},
     "output_type": "display_data"
    }
   ],
   "source": [
    "attach(mydata)\n",
    "mydata$sum <- x1 + x2\n",
    "mydata$meanx <- (x1 + x2)/2\n",
    "detach(mydata)\n",
    "\n",
    "mydata"
   ]
  },
  {
   "cell_type": "markdown",
   "metadata": {},
   "source": [
    "## 法三"
   ]
  },
  {
   "cell_type": "code",
   "execution_count": 8,
   "metadata": {},
   "outputs": [
    {
     "data": {
      "text/html": [
       "<table>\n",
       "<thead><tr><th scope=col>x1</th><th scope=col>x2</th><th scope=col>sum</th><th scope=col>meanx</th></tr></thead>\n",
       "<tbody>\n",
       "\t<tr><td>2  </td><td>3  </td><td> 5 </td><td>2.5</td></tr>\n",
       "\t<tr><td>2  </td><td>4  </td><td> 6 </td><td>3.0</td></tr>\n",
       "\t<tr><td>6  </td><td>2  </td><td> 8 </td><td>4.0</td></tr>\n",
       "\t<tr><td>4  </td><td>8  </td><td>12 </td><td>6.0</td></tr>\n",
       "</tbody>\n",
       "</table>\n"
      ],
      "text/latex": [
       "\\begin{tabular}{r|llll}\n",
       " x1 & x2 & sum & meanx\\\\\n",
       "\\hline\n",
       "\t 2   & 3   &  5  & 2.5\\\\\n",
       "\t 2   & 4   &  6  & 3.0\\\\\n",
       "\t 6   & 2   &  8  & 4.0\\\\\n",
       "\t 4   & 8   & 12  & 6.0\\\\\n",
       "\\end{tabular}\n"
      ],
      "text/markdown": [
       "\n",
       "x1 | x2 | sum | meanx | \n",
       "|---|---|---|---|\n",
       "| 2   | 3   |  5  | 2.5 | \n",
       "| 2   | 4   |  6  | 3.0 | \n",
       "| 6   | 2   |  8  | 4.0 | \n",
       "| 4   | 8   | 12  | 6.0 | \n",
       "\n",
       "\n"
      ],
      "text/plain": [
       "  x1 x2 sum meanx\n",
       "1 2  3   5  2.5  \n",
       "2 2  4   6  3.0  \n",
       "3 6  2   8  4.0  \n",
       "4 4  8  12  6.0  "
      ]
     },
     "metadata": {},
     "output_type": "display_data"
    }
   ],
   "source": [
    "mydata <- transform(mydata,\n",
    "                   sum = x1 + x2,\n",
    "                   meanx = (x1 + x2)/2)\n",
    "\n",
    "mydata"
   ]
  },
  {
   "cell_type": "markdown",
   "metadata": {},
   "source": [
    "# 变量的重编码"
   ]
  },
  {
   "cell_type": "code",
   "execution_count": 9,
   "metadata": {},
   "outputs": [
    {
     "data": {
      "text/html": [
       "<table>\n",
       "<thead><tr><th scope=col>manager</th><th scope=col>date</th><th scope=col>country</th><th scope=col>gender</th><th scope=col>age</th><th scope=col>q1</th><th scope=col>q2</th><th scope=col>q3</th><th scope=col>q4</th><th scope=col>q5</th><th scope=col>stringAsFactors</th></tr></thead>\n",
       "<tbody>\n",
       "\t<tr><td>1       </td><td>10/24/08</td><td>US      </td><td>M       </td><td>32      </td><td>5       </td><td>4       </td><td>5       </td><td> 5      </td><td> 5      </td><td>FALSE   </td></tr>\n",
       "\t<tr><td>2       </td><td>10/28/08</td><td>US      </td><td>F       </td><td>45      </td><td>3       </td><td>5       </td><td>2       </td><td> 5      </td><td> 5      </td><td>FALSE   </td></tr>\n",
       "\t<tr><td>3       </td><td>10/1/08 </td><td>UK      </td><td>F       </td><td>25      </td><td>3       </td><td>5       </td><td>5       </td><td> 5      </td><td> 2      </td><td>FALSE   </td></tr>\n",
       "\t<tr><td>4       </td><td>10/12/08</td><td>UK      </td><td>M       </td><td>39      </td><td>3       </td><td>3       </td><td>4       </td><td>NA      </td><td>NA      </td><td>FALSE   </td></tr>\n",
       "\t<tr><td>5       </td><td>5/1/09  </td><td>UK      </td><td>F       </td><td>99      </td><td>2       </td><td>2       </td><td>1       </td><td> 2      </td><td> 1      </td><td>FALSE   </td></tr>\n",
       "</tbody>\n",
       "</table>\n"
      ],
      "text/latex": [
       "\\begin{tabular}{r|lllllllllll}\n",
       " manager & date & country & gender & age & q1 & q2 & q3 & q4 & q5 & stringAsFactors\\\\\n",
       "\\hline\n",
       "\t 1        & 10/24/08 & US       & M        & 32       & 5        & 4        & 5        &  5       &  5       & FALSE   \\\\\n",
       "\t 2        & 10/28/08 & US       & F        & 45       & 3        & 5        & 2        &  5       &  5       & FALSE   \\\\\n",
       "\t 3        & 10/1/08  & UK       & F        & 25       & 3        & 5        & 5        &  5       &  2       & FALSE   \\\\\n",
       "\t 4        & 10/12/08 & UK       & M        & 39       & 3        & 3        & 4        & NA       & NA       & FALSE   \\\\\n",
       "\t 5        & 5/1/09   & UK       & F        & 99       & 2        & 2        & 1        &  2       &  1       & FALSE   \\\\\n",
       "\\end{tabular}\n"
      ],
      "text/markdown": [
       "\n",
       "manager | date | country | gender | age | q1 | q2 | q3 | q4 | q5 | stringAsFactors | \n",
       "|---|---|---|---|---|\n",
       "| 1        | 10/24/08 | US       | M        | 32       | 5        | 4        | 5        |  5       |  5       | FALSE    | \n",
       "| 2        | 10/28/08 | US       | F        | 45       | 3        | 5        | 2        |  5       |  5       | FALSE    | \n",
       "| 3        | 10/1/08  | UK       | F        | 25       | 3        | 5        | 5        |  5       |  2       | FALSE    | \n",
       "| 4        | 10/12/08 | UK       | M        | 39       | 3        | 3        | 4        | NA       | NA       | FALSE    | \n",
       "| 5        | 5/1/09   | UK       | F        | 99       | 2        | 2        | 1        |  2       |  1       | FALSE    | \n",
       "\n",
       "\n"
      ],
      "text/plain": [
       "  manager date     country gender age q1 q2 q3 q4 q5 stringAsFactors\n",
       "1 1       10/24/08 US      M      32  5  4  5   5  5 FALSE          \n",
       "2 2       10/28/08 US      F      45  3  5  2   5  5 FALSE          \n",
       "3 3       10/1/08  UK      F      25  3  5  5   5  2 FALSE          \n",
       "4 4       10/12/08 UK      M      39  3  3  4  NA NA FALSE          \n",
       "5 5       5/1/09   UK      F      99  2  2  1   2  1 FALSE          "
      ]
     },
     "metadata": {},
     "output_type": "display_data"
    }
   ],
   "source": [
    "leadership"
   ]
  },
  {
   "cell_type": "markdown",
   "metadata": {},
   "source": [
    "将leadership数据集中经理人的连续型年龄变量age重编码为类别型变量\n",
    "agecat（Young、 Middle Aged、 Elder）。首先，必须将99岁的年龄值重编码为缺失值"
   ]
  },
  {
   "cell_type": "markdown",
   "metadata": {},
   "source": [
    "## 法一"
   ]
  },
  {
   "cell_type": "code",
   "execution_count": 10,
   "metadata": {
    "collapsed": true
   },
   "outputs": [],
   "source": [
    "leadership$age[leadership$age == 99] <- NA"
   ]
  },
  {
   "cell_type": "code",
   "execution_count": 11,
   "metadata": {},
   "outputs": [
    {
     "data": {
      "text/html": [
       "<table>\n",
       "<thead><tr><th scope=col>manager</th><th scope=col>date</th><th scope=col>country</th><th scope=col>gender</th><th scope=col>age</th><th scope=col>q1</th><th scope=col>q2</th><th scope=col>q3</th><th scope=col>q4</th><th scope=col>q5</th><th scope=col>stringAsFactors</th><th scope=col>agecat</th></tr></thead>\n",
       "<tbody>\n",
       "\t<tr><td>1       </td><td>10/24/08</td><td>US      </td><td>M       </td><td>32      </td><td>5       </td><td>4       </td><td>5       </td><td> 5      </td><td> 5      </td><td>FALSE   </td><td>Young   </td></tr>\n",
       "\t<tr><td>2       </td><td>10/28/08</td><td>US      </td><td>F       </td><td>45      </td><td>3       </td><td>5       </td><td>2       </td><td> 5      </td><td> 5      </td><td>FALSE   </td><td>Young   </td></tr>\n",
       "\t<tr><td>3       </td><td>10/1/08 </td><td>UK      </td><td>F       </td><td>25      </td><td>3       </td><td>5       </td><td>5       </td><td> 5      </td><td> 2      </td><td>FALSE   </td><td>Young   </td></tr>\n",
       "\t<tr><td>4       </td><td>10/12/08</td><td>UK      </td><td>M       </td><td>39      </td><td>3       </td><td>3       </td><td>4       </td><td>NA      </td><td>NA      </td><td>FALSE   </td><td>Young   </td></tr>\n",
       "\t<tr><td>5       </td><td>5/1/09  </td><td>UK      </td><td>F       </td><td>NA      </td><td>2       </td><td>2       </td><td>1       </td><td> 2      </td><td> 1      </td><td>FALSE   </td><td>NA      </td></tr>\n",
       "</tbody>\n",
       "</table>\n"
      ],
      "text/latex": [
       "\\begin{tabular}{r|llllllllllll}\n",
       " manager & date & country & gender & age & q1 & q2 & q3 & q4 & q5 & stringAsFactors & agecat\\\\\n",
       "\\hline\n",
       "\t 1        & 10/24/08 & US       & M        & 32       & 5        & 4        & 5        &  5       &  5       & FALSE    & Young   \\\\\n",
       "\t 2        & 10/28/08 & US       & F        & 45       & 3        & 5        & 2        &  5       &  5       & FALSE    & Young   \\\\\n",
       "\t 3        & 10/1/08  & UK       & F        & 25       & 3        & 5        & 5        &  5       &  2       & FALSE    & Young   \\\\\n",
       "\t 4        & 10/12/08 & UK       & M        & 39       & 3        & 3        & 4        & NA       & NA       & FALSE    & Young   \\\\\n",
       "\t 5        & 5/1/09   & UK       & F        & NA       & 2        & 2        & 1        &  2       &  1       & FALSE    & NA      \\\\\n",
       "\\end{tabular}\n"
      ],
      "text/markdown": [
       "\n",
       "manager | date | country | gender | age | q1 | q2 | q3 | q4 | q5 | stringAsFactors | agecat | \n",
       "|---|---|---|---|---|\n",
       "| 1        | 10/24/08 | US       | M        | 32       | 5        | 4        | 5        |  5       |  5       | FALSE    | Young    | \n",
       "| 2        | 10/28/08 | US       | F        | 45       | 3        | 5        | 2        |  5       |  5       | FALSE    | Young    | \n",
       "| 3        | 10/1/08  | UK       | F        | 25       | 3        | 5        | 5        |  5       |  2       | FALSE    | Young    | \n",
       "| 4        | 10/12/08 | UK       | M        | 39       | 3        | 3        | 4        | NA       | NA       | FALSE    | Young    | \n",
       "| 5        | 5/1/09   | UK       | F        | NA       | 2        | 2        | 1        |  2       |  1       | FALSE    | NA       | \n",
       "\n",
       "\n"
      ],
      "text/plain": [
       "  manager date     country gender age q1 q2 q3 q4 q5 stringAsFactors agecat\n",
       "1 1       10/24/08 US      M      32  5  4  5   5  5 FALSE           Young \n",
       "2 2       10/28/08 US      F      45  3  5  2   5  5 FALSE           Young \n",
       "3 3       10/1/08  UK      F      25  3  5  5   5  2 FALSE           Young \n",
       "4 4       10/12/08 UK      M      39  3  3  4  NA NA FALSE           Young \n",
       "5 5       5/1/09   UK      F      NA  2  2  1   2  1 FALSE           NA    "
      ]
     },
     "metadata": {},
     "output_type": "display_data"
    }
   ],
   "source": [
    "leadership$agecat[leadership$age > 75] <- \"Elder\"\n",
    "leadership$agecat[leadership$age >= 55 &\n",
    "                 leadership$age <= 75] <- \"Middle Aged\"\n",
    "leadership$agecat[leadership$age < 55] <- \"Young\"\n",
    "\n",
    "leadership"
   ]
  },
  {
   "cell_type": "markdown",
   "metadata": {},
   "source": [
    "## 法二"
   ]
  },
  {
   "cell_type": "code",
   "execution_count": null,
   "metadata": {
    "collapsed": true
   },
   "outputs": [],
   "source": [
    "leadership <- within(leadership, {\n",
    "    agecat <- NA\n",
    "    agecat[age > 75] <- \"Elder\"\n",
    "    agecat[age >= 55 & age <= 75] <- \"Middle Aged\"\n",
    "    agecat[age <55 ] <- \"Young\"\n",
    "})"
   ]
  },
  {
   "cell_type": "markdown",
   "metadata": {},
   "source": [
    "# 变量的重命名"
   ]
  },
  {
   "cell_type": "markdown",
   "metadata": {},
   "source": [
    "## 交互修改"
   ]
  },
  {
   "cell_type": "code",
   "execution_count": 12,
   "metadata": {
    "collapsed": true
   },
   "outputs": [],
   "source": [
    "fix(leadership)"
   ]
  },
  {
   "cell_type": "markdown",
   "metadata": {},
   "source": [
    "## rename"
   ]
  },
  {
   "cell_type": "code",
   "execution_count": 14,
   "metadata": {},
   "outputs": [
    {
     "name": "stderr",
     "output_type": "stream",
     "text": [
      "Warning message:\n",
      "\"package 'reshape' was built under R version 3.4.1\""
     ]
    }
   ],
   "source": [
    "library(reshape)"
   ]
  },
  {
   "cell_type": "code",
   "execution_count": 15,
   "metadata": {
    "collapsed": true
   },
   "outputs": [],
   "source": [
    "leadership <- rename(leadership, c(manager=\"managerID\", date=\"testDate\"))"
   ]
  },
  {
   "cell_type": "code",
   "execution_count": 16,
   "metadata": {},
   "outputs": [
    {
     "data": {
      "text/html": [
       "<table>\n",
       "<thead><tr><th scope=col>managerID</th><th scope=col>testDate</th><th scope=col>country</th><th scope=col>gender</th><th scope=col>age</th><th scope=col>q1</th><th scope=col>q2</th><th scope=col>q3</th><th scope=col>q4</th><th scope=col>q5</th><th scope=col>stringAsFactors</th><th scope=col>agecat</th></tr></thead>\n",
       "<tbody>\n",
       "\t<tr><td>1       </td><td>10/24/08</td><td>US      </td><td>M       </td><td>32      </td><td>5       </td><td>4       </td><td>5       </td><td> 5      </td><td> 5      </td><td>FALSE   </td><td>Young   </td></tr>\n",
       "\t<tr><td>2       </td><td>10/28/08</td><td>US      </td><td>F       </td><td>45      </td><td>3       </td><td>5       </td><td>2       </td><td> 5      </td><td> 5      </td><td>FALSE   </td><td>Young   </td></tr>\n",
       "\t<tr><td>3       </td><td>10/1/08 </td><td>UK      </td><td>F       </td><td>25      </td><td>3       </td><td>5       </td><td>5       </td><td> 5      </td><td> 2      </td><td>FALSE   </td><td>Young   </td></tr>\n",
       "\t<tr><td>4       </td><td>10/12/08</td><td>UK      </td><td>M       </td><td>39      </td><td>3       </td><td>3       </td><td>4       </td><td>NA      </td><td>NA      </td><td>FALSE   </td><td>Young   </td></tr>\n",
       "\t<tr><td>5       </td><td>5/1/09  </td><td>UK      </td><td>F       </td><td>NA      </td><td>2       </td><td>2       </td><td>1       </td><td> 2      </td><td> 1      </td><td>FALSE   </td><td>NA      </td></tr>\n",
       "</tbody>\n",
       "</table>\n"
      ],
      "text/latex": [
       "\\begin{tabular}{r|llllllllllll}\n",
       " managerID & testDate & country & gender & age & q1 & q2 & q3 & q4 & q5 & stringAsFactors & agecat\\\\\n",
       "\\hline\n",
       "\t 1        & 10/24/08 & US       & M        & 32       & 5        & 4        & 5        &  5       &  5       & FALSE    & Young   \\\\\n",
       "\t 2        & 10/28/08 & US       & F        & 45       & 3        & 5        & 2        &  5       &  5       & FALSE    & Young   \\\\\n",
       "\t 3        & 10/1/08  & UK       & F        & 25       & 3        & 5        & 5        &  5       &  2       & FALSE    & Young   \\\\\n",
       "\t 4        & 10/12/08 & UK       & M        & 39       & 3        & 3        & 4        & NA       & NA       & FALSE    & Young   \\\\\n",
       "\t 5        & 5/1/09   & UK       & F        & NA       & 2        & 2        & 1        &  2       &  1       & FALSE    & NA      \\\\\n",
       "\\end{tabular}\n"
      ],
      "text/markdown": [
       "\n",
       "managerID | testDate | country | gender | age | q1 | q2 | q3 | q4 | q5 | stringAsFactors | agecat | \n",
       "|---|---|---|---|---|\n",
       "| 1        | 10/24/08 | US       | M        | 32       | 5        | 4        | 5        |  5       |  5       | FALSE    | Young    | \n",
       "| 2        | 10/28/08 | US       | F        | 45       | 3        | 5        | 2        |  5       |  5       | FALSE    | Young    | \n",
       "| 3        | 10/1/08  | UK       | F        | 25       | 3        | 5        | 5        |  5       |  2       | FALSE    | Young    | \n",
       "| 4        | 10/12/08 | UK       | M        | 39       | 3        | 3        | 4        | NA       | NA       | FALSE    | Young    | \n",
       "| 5        | 5/1/09   | UK       | F        | NA       | 2        | 2        | 1        |  2       |  1       | FALSE    | NA       | \n",
       "\n",
       "\n"
      ],
      "text/plain": [
       "  managerID testDate country gender age q1 q2 q3 q4 q5 stringAsFactors agecat\n",
       "1 1         10/24/08 US      M      32  5  4  5   5  5 FALSE           Young \n",
       "2 2         10/28/08 US      F      45  3  5  2   5  5 FALSE           Young \n",
       "3 3         10/1/08  UK      F      25  3  5  5   5  2 FALSE           Young \n",
       "4 4         10/12/08 UK      M      39  3  3  4  NA NA FALSE           Young \n",
       "5 5         5/1/09   UK      F      NA  2  2  1   2  1 FALSE           NA    "
      ]
     },
     "metadata": {},
     "output_type": "display_data"
    }
   ],
   "source": [
    "leadership"
   ]
  },
  {
   "cell_type": "markdown",
   "metadata": {},
   "source": [
    "## names"
   ]
  },
  {
   "cell_type": "code",
   "execution_count": 17,
   "metadata": {},
   "outputs": [
    {
     "data": {
      "text/html": [
       "<table>\n",
       "<thead><tr><th scope=col>managerID</th><th scope=col>TestDate</th><th scope=col>country</th><th scope=col>gender</th><th scope=col>age</th><th scope=col>q1</th><th scope=col>q2</th><th scope=col>q3</th><th scope=col>q4</th><th scope=col>q5</th><th scope=col>stringAsFactors</th><th scope=col>agecat</th></tr></thead>\n",
       "<tbody>\n",
       "\t<tr><td>1       </td><td>10/24/08</td><td>US      </td><td>M       </td><td>32      </td><td>5       </td><td>4       </td><td>5       </td><td> 5      </td><td> 5      </td><td>FALSE   </td><td>Young   </td></tr>\n",
       "\t<tr><td>2       </td><td>10/28/08</td><td>US      </td><td>F       </td><td>45      </td><td>3       </td><td>5       </td><td>2       </td><td> 5      </td><td> 5      </td><td>FALSE   </td><td>Young   </td></tr>\n",
       "\t<tr><td>3       </td><td>10/1/08 </td><td>UK      </td><td>F       </td><td>25      </td><td>3       </td><td>5       </td><td>5       </td><td> 5      </td><td> 2      </td><td>FALSE   </td><td>Young   </td></tr>\n",
       "\t<tr><td>4       </td><td>10/12/08</td><td>UK      </td><td>M       </td><td>39      </td><td>3       </td><td>3       </td><td>4       </td><td>NA      </td><td>NA      </td><td>FALSE   </td><td>Young   </td></tr>\n",
       "\t<tr><td>5       </td><td>5/1/09  </td><td>UK      </td><td>F       </td><td>NA      </td><td>2       </td><td>2       </td><td>1       </td><td> 2      </td><td> 1      </td><td>FALSE   </td><td>NA      </td></tr>\n",
       "</tbody>\n",
       "</table>\n"
      ],
      "text/latex": [
       "\\begin{tabular}{r|llllllllllll}\n",
       " managerID & TestDate & country & gender & age & q1 & q2 & q3 & q4 & q5 & stringAsFactors & agecat\\\\\n",
       "\\hline\n",
       "\t 1        & 10/24/08 & US       & M        & 32       & 5        & 4        & 5        &  5       &  5       & FALSE    & Young   \\\\\n",
       "\t 2        & 10/28/08 & US       & F        & 45       & 3        & 5        & 2        &  5       &  5       & FALSE    & Young   \\\\\n",
       "\t 3        & 10/1/08  & UK       & F        & 25       & 3        & 5        & 5        &  5       &  2       & FALSE    & Young   \\\\\n",
       "\t 4        & 10/12/08 & UK       & M        & 39       & 3        & 3        & 4        & NA       & NA       & FALSE    & Young   \\\\\n",
       "\t 5        & 5/1/09   & UK       & F        & NA       & 2        & 2        & 1        &  2       &  1       & FALSE    & NA      \\\\\n",
       "\\end{tabular}\n"
      ],
      "text/markdown": [
       "\n",
       "managerID | TestDate | country | gender | age | q1 | q2 | q3 | q4 | q5 | stringAsFactors | agecat | \n",
       "|---|---|---|---|---|\n",
       "| 1        | 10/24/08 | US       | M        | 32       | 5        | 4        | 5        |  5       |  5       | FALSE    | Young    | \n",
       "| 2        | 10/28/08 | US       | F        | 45       | 3        | 5        | 2        |  5       |  5       | FALSE    | Young    | \n",
       "| 3        | 10/1/08  | UK       | F        | 25       | 3        | 5        | 5        |  5       |  2       | FALSE    | Young    | \n",
       "| 4        | 10/12/08 | UK       | M        | 39       | 3        | 3        | 4        | NA       | NA       | FALSE    | Young    | \n",
       "| 5        | 5/1/09   | UK       | F        | NA       | 2        | 2        | 1        |  2       |  1       | FALSE    | NA       | \n",
       "\n",
       "\n"
      ],
      "text/plain": [
       "  managerID TestDate country gender age q1 q2 q3 q4 q5 stringAsFactors agecat\n",
       "1 1         10/24/08 US      M      32  5  4  5   5  5 FALSE           Young \n",
       "2 2         10/28/08 US      F      45  3  5  2   5  5 FALSE           Young \n",
       "3 3         10/1/08  UK      F      25  3  5  5   5  2 FALSE           Young \n",
       "4 4         10/12/08 UK      M      39  3  3  4  NA NA FALSE           Young \n",
       "5 5         5/1/09   UK      F      NA  2  2  1   2  1 FALSE           NA    "
      ]
     },
     "metadata": {},
     "output_type": "display_data"
    }
   ],
   "source": [
    "names(leadership)[2] <- \"TestDate\"\n",
    "leadership"
   ]
  },
  {
   "cell_type": "markdown",
   "metadata": {},
   "source": [
    "# 缺失值"
   ]
  },
  {
   "cell_type": "markdown",
   "metadata": {},
   "source": [
    "在R中，缺失值以符号NA（Not Available，不可用）表示。不可能出现的值（例如，被0除的结果）\n",
    "通过符号NaN（Not a Number，非数值）来表示。"
   ]
  },
  {
   "cell_type": "markdown",
   "metadata": {},
   "source": [
    "## is.na()"
   ]
  },
  {
   "cell_type": "code",
   "execution_count": 18,
   "metadata": {
    "collapsed": true
   },
   "outputs": [],
   "source": [
    "y <- c(1,2,3,NA)"
   ]
  },
  {
   "cell_type": "code",
   "execution_count": 19,
   "metadata": {},
   "outputs": [
    {
     "data": {
      "text/html": [
       "<ol class=list-inline>\n",
       "\t<li>FALSE</li>\n",
       "\t<li>FALSE</li>\n",
       "\t<li>FALSE</li>\n",
       "\t<li>TRUE</li>\n",
       "</ol>\n"
      ],
      "text/latex": [
       "\\begin{enumerate*}\n",
       "\\item FALSE\n",
       "\\item FALSE\n",
       "\\item FALSE\n",
       "\\item TRUE\n",
       "\\end{enumerate*}\n"
      ],
      "text/markdown": [
       "1. FALSE\n",
       "2. FALSE\n",
       "3. FALSE\n",
       "4. TRUE\n",
       "\n",
       "\n"
      ],
      "text/plain": [
       "[1] FALSE FALSE FALSE  TRUE"
      ]
     },
     "metadata": {},
     "output_type": "display_data"
    }
   ],
   "source": [
    "is.na(y)"
   ]
  },
  {
   "cell_type": "markdown",
   "metadata": {},
   "source": [
    "```\n",
    "缺失值被认为是不可比较的，即便是与缺失值自身的比较。这意味着无法使用比较运算\n",
    "符来检测缺失值是否存在。例如，逻辑测试myvar == NA的结果永远不会为TRUE。作为\n",
    "替代，你只能使用处理缺失值的函数（如本节中所述的那些）来识别出R数据对象中的缺\n",
    "失值\n",
    "```"
   ]
  },
  {
   "cell_type": "markdown",
   "metadata": {},
   "source": [
    "## 在分析中排除缺失值  na.omit()"
   ]
  },
  {
   "cell_type": "code",
   "execution_count": 21,
   "metadata": {},
   "outputs": [
    {
     "data": {
      "text/html": [
       "6"
      ],
      "text/latex": [
       "6"
      ],
      "text/markdown": [
       "6"
      ],
      "text/plain": [
       "[1] 6"
      ]
     },
     "metadata": {},
     "output_type": "display_data"
    }
   ],
   "source": [
    "x <- c(1,2,NA,3)\n",
    "y <- sum(x,na.rm=TRUE)\n",
    "y"
   ]
  },
  {
   "cell_type": "code",
   "execution_count": 22,
   "metadata": {},
   "outputs": [
    {
     "data": {
      "text/html": [
       "<table>\n",
       "<thead><tr><th scope=col>managerID</th><th scope=col>TestDate</th><th scope=col>country</th><th scope=col>gender</th><th scope=col>age</th><th scope=col>q1</th><th scope=col>q2</th><th scope=col>q3</th><th scope=col>q4</th><th scope=col>q5</th><th scope=col>stringAsFactors</th><th scope=col>agecat</th></tr></thead>\n",
       "<tbody>\n",
       "\t<tr><td>1       </td><td>10/24/08</td><td>US      </td><td>M       </td><td>32      </td><td>5       </td><td>4       </td><td>5       </td><td> 5      </td><td> 5      </td><td>FALSE   </td><td>Young   </td></tr>\n",
       "\t<tr><td>2       </td><td>10/28/08</td><td>US      </td><td>F       </td><td>45      </td><td>3       </td><td>5       </td><td>2       </td><td> 5      </td><td> 5      </td><td>FALSE   </td><td>Young   </td></tr>\n",
       "\t<tr><td>3       </td><td>10/1/08 </td><td>UK      </td><td>F       </td><td>25      </td><td>3       </td><td>5       </td><td>5       </td><td> 5      </td><td> 2      </td><td>FALSE   </td><td>Young   </td></tr>\n",
       "\t<tr><td>4       </td><td>10/12/08</td><td>UK      </td><td>M       </td><td>39      </td><td>3       </td><td>3       </td><td>4       </td><td>NA      </td><td>NA      </td><td>FALSE   </td><td>Young   </td></tr>\n",
       "\t<tr><td>5       </td><td>5/1/09  </td><td>UK      </td><td>F       </td><td>NA      </td><td>2       </td><td>2       </td><td>1       </td><td> 2      </td><td> 1      </td><td>FALSE   </td><td>NA      </td></tr>\n",
       "</tbody>\n",
       "</table>\n"
      ],
      "text/latex": [
       "\\begin{tabular}{r|llllllllllll}\n",
       " managerID & TestDate & country & gender & age & q1 & q2 & q3 & q4 & q5 & stringAsFactors & agecat\\\\\n",
       "\\hline\n",
       "\t 1        & 10/24/08 & US       & M        & 32       & 5        & 4        & 5        &  5       &  5       & FALSE    & Young   \\\\\n",
       "\t 2        & 10/28/08 & US       & F        & 45       & 3        & 5        & 2        &  5       &  5       & FALSE    & Young   \\\\\n",
       "\t 3        & 10/1/08  & UK       & F        & 25       & 3        & 5        & 5        &  5       &  2       & FALSE    & Young   \\\\\n",
       "\t 4        & 10/12/08 & UK       & M        & 39       & 3        & 3        & 4        & NA       & NA       & FALSE    & Young   \\\\\n",
       "\t 5        & 5/1/09   & UK       & F        & NA       & 2        & 2        & 1        &  2       &  1       & FALSE    & NA      \\\\\n",
       "\\end{tabular}\n"
      ],
      "text/markdown": [
       "\n",
       "managerID | TestDate | country | gender | age | q1 | q2 | q3 | q4 | q5 | stringAsFactors | agecat | \n",
       "|---|---|---|---|---|\n",
       "| 1        | 10/24/08 | US       | M        | 32       | 5        | 4        | 5        |  5       |  5       | FALSE    | Young    | \n",
       "| 2        | 10/28/08 | US       | F        | 45       | 3        | 5        | 2        |  5       |  5       | FALSE    | Young    | \n",
       "| 3        | 10/1/08  | UK       | F        | 25       | 3        | 5        | 5        |  5       |  2       | FALSE    | Young    | \n",
       "| 4        | 10/12/08 | UK       | M        | 39       | 3        | 3        | 4        | NA       | NA       | FALSE    | Young    | \n",
       "| 5        | 5/1/09   | UK       | F        | NA       | 2        | 2        | 1        |  2       |  1       | FALSE    | NA       | \n",
       "\n",
       "\n"
      ],
      "text/plain": [
       "  managerID TestDate country gender age q1 q2 q3 q4 q5 stringAsFactors agecat\n",
       "1 1         10/24/08 US      M      32  5  4  5   5  5 FALSE           Young \n",
       "2 2         10/28/08 US      F      45  3  5  2   5  5 FALSE           Young \n",
       "3 3         10/1/08  UK      F      25  3  5  5   5  2 FALSE           Young \n",
       "4 4         10/12/08 UK      M      39  3  3  4  NA NA FALSE           Young \n",
       "5 5         5/1/09   UK      F      NA  2  2  1   2  1 FALSE           NA    "
      ]
     },
     "metadata": {},
     "output_type": "display_data"
    }
   ],
   "source": [
    "leadership"
   ]
  },
  {
   "cell_type": "code",
   "execution_count": 23,
   "metadata": {},
   "outputs": [
    {
     "data": {
      "text/html": [
       "<table>\n",
       "<thead><tr><th scope=col>managerID</th><th scope=col>TestDate</th><th scope=col>country</th><th scope=col>gender</th><th scope=col>age</th><th scope=col>q1</th><th scope=col>q2</th><th scope=col>q3</th><th scope=col>q4</th><th scope=col>q5</th><th scope=col>stringAsFactors</th><th scope=col>agecat</th></tr></thead>\n",
       "<tbody>\n",
       "\t<tr><td>1       </td><td>10/24/08</td><td>US      </td><td>M       </td><td>32      </td><td>5       </td><td>4       </td><td>5       </td><td>5       </td><td>5       </td><td>FALSE   </td><td>Young   </td></tr>\n",
       "\t<tr><td>2       </td><td>10/28/08</td><td>US      </td><td>F       </td><td>45      </td><td>3       </td><td>5       </td><td>2       </td><td>5       </td><td>5       </td><td>FALSE   </td><td>Young   </td></tr>\n",
       "\t<tr><td>3       </td><td>10/1/08 </td><td>UK      </td><td>F       </td><td>25      </td><td>3       </td><td>5       </td><td>5       </td><td>5       </td><td>2       </td><td>FALSE   </td><td>Young   </td></tr>\n",
       "</tbody>\n",
       "</table>\n"
      ],
      "text/latex": [
       "\\begin{tabular}{r|llllllllllll}\n",
       " managerID & TestDate & country & gender & age & q1 & q2 & q3 & q4 & q5 & stringAsFactors & agecat\\\\\n",
       "\\hline\n",
       "\t 1        & 10/24/08 & US       & M        & 32       & 5        & 4        & 5        & 5        & 5        & FALSE    & Young   \\\\\n",
       "\t 2        & 10/28/08 & US       & F        & 45       & 3        & 5        & 2        & 5        & 5        & FALSE    & Young   \\\\\n",
       "\t 3        & 10/1/08  & UK       & F        & 25       & 3        & 5        & 5        & 5        & 2        & FALSE    & Young   \\\\\n",
       "\\end{tabular}\n"
      ],
      "text/markdown": [
       "\n",
       "managerID | TestDate | country | gender | age | q1 | q2 | q3 | q4 | q5 | stringAsFactors | agecat | \n",
       "|---|---|---|\n",
       "| 1        | 10/24/08 | US       | M        | 32       | 5        | 4        | 5        | 5        | 5        | FALSE    | Young    | \n",
       "| 2        | 10/28/08 | US       | F        | 45       | 3        | 5        | 2        | 5        | 5        | FALSE    | Young    | \n",
       "| 3        | 10/1/08  | UK       | F        | 25       | 3        | 5        | 5        | 5        | 2        | FALSE    | Young    | \n",
       "\n",
       "\n"
      ],
      "text/plain": [
       "  managerID TestDate country gender age q1 q2 q3 q4 q5 stringAsFactors agecat\n",
       "1 1         10/24/08 US      M      32  5  4  5  5  5  FALSE           Young \n",
       "2 2         10/28/08 US      F      45  3  5  2  5  5  FALSE           Young \n",
       "3 3         10/1/08  UK      F      25  3  5  5  5  2  FALSE           Young "
      ]
     },
     "metadata": {},
     "output_type": "display_data"
    }
   ],
   "source": [
    "newdata <- na.omit(leadership)\n",
    "newdata"
   ]
  },
  {
   "cell_type": "markdown",
   "metadata": {},
   "source": [
    "# 日期值 as Date(x, \"input_format\")"
   ]
  },
  {
   "cell_type": "code",
   "execution_count": 24,
   "metadata": {},
   "outputs": [
    {
     "data": {
      "text/html": [
       "<ol class=list-inline>\n",
       "\t<li><time datetime=\"2007-06-22\">2007-06-22</time></li>\n",
       "\t<li><time datetime=\"2004-02-13\">2004-02-13</time></li>\n",
       "</ol>\n"
      ],
      "text/latex": [
       "\\begin{enumerate*}\n",
       "\\item 2007-06-22\n",
       "\\item 2004-02-13\n",
       "\\end{enumerate*}\n"
      ],
      "text/markdown": [
       "1. 2007-06-22\n",
       "2. 2004-02-13\n",
       "\n",
       "\n"
      ],
      "text/plain": [
       "[1] \"2007-06-22\" \"2004-02-13\""
      ]
     },
     "metadata": {},
     "output_type": "display_data"
    }
   ],
   "source": [
    "mydates <- as.Date(c(\"2007-06-22\",\"2004-02-13\"))\n",
    "mydates"
   ]
  },
  {
   "cell_type": "code",
   "execution_count": 25,
   "metadata": {},
   "outputs": [
    {
     "data": {
      "text/html": [
       "<ol class=list-inline>\n",
       "\t<li><time datetime=\"1965-01-05\">1965-01-05</time></li>\n",
       "\t<li><time datetime=\"1975-08-16\">1975-08-16</time></li>\n",
       "</ol>\n"
      ],
      "text/latex": [
       "\\begin{enumerate*}\n",
       "\\item 1965-01-05\n",
       "\\item 1975-08-16\n",
       "\\end{enumerate*}\n"
      ],
      "text/markdown": [
       "1. 1965-01-05\n",
       "2. 1975-08-16\n",
       "\n",
       "\n"
      ],
      "text/plain": [
       "[1] \"1965-01-05\" \"1975-08-16\""
      ]
     },
     "metadata": {},
     "output_type": "display_data"
    }
   ],
   "source": [
    "strDates <- c(\"01/05/1965\",\"08/16/1975\")\n",
    "dates <- as.Date(strDates,\"%m/%d/%Y\")\n",
    "dates"
   ]
  },
  {
   "cell_type": "code",
   "execution_count": 26,
   "metadata": {},
   "outputs": [
    {
     "data": {
      "text/html": [
       "<table>\n",
       "<thead><tr><th scope=col>managerID</th><th scope=col>TestDate</th><th scope=col>country</th><th scope=col>gender</th><th scope=col>age</th><th scope=col>q1</th><th scope=col>q2</th><th scope=col>q3</th><th scope=col>q4</th><th scope=col>q5</th><th scope=col>stringAsFactors</th><th scope=col>agecat</th></tr></thead>\n",
       "<tbody>\n",
       "\t<tr><td>1       </td><td>10/24/08</td><td>US      </td><td>M       </td><td>32      </td><td>5       </td><td>4       </td><td>5       </td><td> 5      </td><td> 5      </td><td>FALSE   </td><td>Young   </td></tr>\n",
       "\t<tr><td>2       </td><td>10/28/08</td><td>US      </td><td>F       </td><td>45      </td><td>3       </td><td>5       </td><td>2       </td><td> 5      </td><td> 5      </td><td>FALSE   </td><td>Young   </td></tr>\n",
       "\t<tr><td>3       </td><td>10/1/08 </td><td>UK      </td><td>F       </td><td>25      </td><td>3       </td><td>5       </td><td>5       </td><td> 5      </td><td> 2      </td><td>FALSE   </td><td>Young   </td></tr>\n",
       "\t<tr><td>4       </td><td>10/12/08</td><td>UK      </td><td>M       </td><td>39      </td><td>3       </td><td>3       </td><td>4       </td><td>NA      </td><td>NA      </td><td>FALSE   </td><td>Young   </td></tr>\n",
       "\t<tr><td>5       </td><td>5/1/09  </td><td>UK      </td><td>F       </td><td>NA      </td><td>2       </td><td>2       </td><td>1       </td><td> 2      </td><td> 1      </td><td>FALSE   </td><td>NA      </td></tr>\n",
       "</tbody>\n",
       "</table>\n"
      ],
      "text/latex": [
       "\\begin{tabular}{r|llllllllllll}\n",
       " managerID & TestDate & country & gender & age & q1 & q2 & q3 & q4 & q5 & stringAsFactors & agecat\\\\\n",
       "\\hline\n",
       "\t 1        & 10/24/08 & US       & M        & 32       & 5        & 4        & 5        &  5       &  5       & FALSE    & Young   \\\\\n",
       "\t 2        & 10/28/08 & US       & F        & 45       & 3        & 5        & 2        &  5       &  5       & FALSE    & Young   \\\\\n",
       "\t 3        & 10/1/08  & UK       & F        & 25       & 3        & 5        & 5        &  5       &  2       & FALSE    & Young   \\\\\n",
       "\t 4        & 10/12/08 & UK       & M        & 39       & 3        & 3        & 4        & NA       & NA       & FALSE    & Young   \\\\\n",
       "\t 5        & 5/1/09   & UK       & F        & NA       & 2        & 2        & 1        &  2       &  1       & FALSE    & NA      \\\\\n",
       "\\end{tabular}\n"
      ],
      "text/markdown": [
       "\n",
       "managerID | TestDate | country | gender | age | q1 | q2 | q3 | q4 | q5 | stringAsFactors | agecat | \n",
       "|---|---|---|---|---|\n",
       "| 1        | 10/24/08 | US       | M        | 32       | 5        | 4        | 5        |  5       |  5       | FALSE    | Young    | \n",
       "| 2        | 10/28/08 | US       | F        | 45       | 3        | 5        | 2        |  5       |  5       | FALSE    | Young    | \n",
       "| 3        | 10/1/08  | UK       | F        | 25       | 3        | 5        | 5        |  5       |  2       | FALSE    | Young    | \n",
       "| 4        | 10/12/08 | UK       | M        | 39       | 3        | 3        | 4        | NA       | NA       | FALSE    | Young    | \n",
       "| 5        | 5/1/09   | UK       | F        | NA       | 2        | 2        | 1        |  2       |  1       | FALSE    | NA       | \n",
       "\n",
       "\n"
      ],
      "text/plain": [
       "  managerID TestDate country gender age q1 q2 q3 q4 q5 stringAsFactors agecat\n",
       "1 1         10/24/08 US      M      32  5  4  5   5  5 FALSE           Young \n",
       "2 2         10/28/08 US      F      45  3  5  2   5  5 FALSE           Young \n",
       "3 3         10/1/08  UK      F      25  3  5  5   5  2 FALSE           Young \n",
       "4 4         10/12/08 UK      M      39  3  3  4  NA NA FALSE           Young \n",
       "5 5         5/1/09   UK      F      NA  2  2  1   2  1 FALSE           NA    "
      ]
     },
     "metadata": {},
     "output_type": "display_data"
    }
   ],
   "source": [
    "leadership"
   ]
  },
  {
   "cell_type": "code",
   "execution_count": 28,
   "metadata": {},
   "outputs": [],
   "source": [
    "myformat <- \"%m/%d/%y\"\n",
    "leadership$TestDate <- as.Date(leadership$TestDate, myformat)"
   ]
  },
  {
   "cell_type": "code",
   "execution_count": 29,
   "metadata": {},
   "outputs": [
    {
     "data": {
      "text/html": [
       "<table>\n",
       "<thead><tr><th scope=col>managerID</th><th scope=col>TestDate</th><th scope=col>country</th><th scope=col>gender</th><th scope=col>age</th><th scope=col>q1</th><th scope=col>q2</th><th scope=col>q3</th><th scope=col>q4</th><th scope=col>q5</th><th scope=col>stringAsFactors</th><th scope=col>agecat</th></tr></thead>\n",
       "<tbody>\n",
       "\t<tr><td>1         </td><td>2008-10-24</td><td>US        </td><td>M         </td><td>32        </td><td>5         </td><td>4         </td><td>5         </td><td> 5        </td><td> 5        </td><td>FALSE     </td><td>Young     </td></tr>\n",
       "\t<tr><td>2         </td><td>2008-10-28</td><td>US        </td><td>F         </td><td>45        </td><td>3         </td><td>5         </td><td>2         </td><td> 5        </td><td> 5        </td><td>FALSE     </td><td>Young     </td></tr>\n",
       "\t<tr><td>3         </td><td>2008-10-01</td><td>UK        </td><td>F         </td><td>25        </td><td>3         </td><td>5         </td><td>5         </td><td> 5        </td><td> 2        </td><td>FALSE     </td><td>Young     </td></tr>\n",
       "\t<tr><td>4         </td><td>2008-10-12</td><td>UK        </td><td>M         </td><td>39        </td><td>3         </td><td>3         </td><td>4         </td><td>NA        </td><td>NA        </td><td>FALSE     </td><td>Young     </td></tr>\n",
       "\t<tr><td>5         </td><td>2009-05-01</td><td>UK        </td><td>F         </td><td>NA        </td><td>2         </td><td>2         </td><td>1         </td><td> 2        </td><td> 1        </td><td>FALSE     </td><td>NA        </td></tr>\n",
       "</tbody>\n",
       "</table>\n"
      ],
      "text/latex": [
       "\\begin{tabular}{r|llllllllllll}\n",
       " managerID & TestDate & country & gender & age & q1 & q2 & q3 & q4 & q5 & stringAsFactors & agecat\\\\\n",
       "\\hline\n",
       "\t 1          & 2008-10-24 & US         & M          & 32         & 5          & 4          & 5          &  5         &  5         & FALSE      & Young     \\\\\n",
       "\t 2          & 2008-10-28 & US         & F          & 45         & 3          & 5          & 2          &  5         &  5         & FALSE      & Young     \\\\\n",
       "\t 3          & 2008-10-01 & UK         & F          & 25         & 3          & 5          & 5          &  5         &  2         & FALSE      & Young     \\\\\n",
       "\t 4          & 2008-10-12 & UK         & M          & 39         & 3          & 3          & 4          & NA         & NA         & FALSE      & Young     \\\\\n",
       "\t 5          & 2009-05-01 & UK         & F          & NA         & 2          & 2          & 1          &  2         &  1         & FALSE      & NA        \\\\\n",
       "\\end{tabular}\n"
      ],
      "text/markdown": [
       "\n",
       "managerID | TestDate | country | gender | age | q1 | q2 | q3 | q4 | q5 | stringAsFactors | agecat | \n",
       "|---|---|---|---|---|\n",
       "| 1          | 2008-10-24 | US         | M          | 32         | 5          | 4          | 5          |  5         |  5         | FALSE      | Young      | \n",
       "| 2          | 2008-10-28 | US         | F          | 45         | 3          | 5          | 2          |  5         |  5         | FALSE      | Young      | \n",
       "| 3          | 2008-10-01 | UK         | F          | 25         | 3          | 5          | 5          |  5         |  2         | FALSE      | Young      | \n",
       "| 4          | 2008-10-12 | UK         | M          | 39         | 3          | 3          | 4          | NA         | NA         | FALSE      | Young      | \n",
       "| 5          | 2009-05-01 | UK         | F          | NA         | 2          | 2          | 1          |  2         |  1         | FALSE      | NA         | \n",
       "\n",
       "\n"
      ],
      "text/plain": [
       "  managerID TestDate   country gender age q1 q2 q3 q4 q5 stringAsFactors agecat\n",
       "1 1         2008-10-24 US      M      32  5  4  5   5  5 FALSE           Young \n",
       "2 2         2008-10-28 US      F      45  3  5  2   5  5 FALSE           Young \n",
       "3 3         2008-10-01 UK      F      25  3  5  5   5  2 FALSE           Young \n",
       "4 4         2008-10-12 UK      M      39  3  3  4  NA NA FALSE           Young \n",
       "5 5         2009-05-01 UK      F      NA  2  2  1   2  1 FALSE           NA    "
      ]
     },
     "metadata": {},
     "output_type": "display_data"
    }
   ],
   "source": [
    "leadership"
   ]
  },
  {
   "cell_type": "code",
   "execution_count": 30,
   "metadata": {},
   "outputs": [
    {
     "data": {
      "text/html": [
       "<time datetime=\"2017-08-29\">2017-08-29</time>"
      ],
      "text/latex": [
       "2017-08-29"
      ],
      "text/markdown": [
       "2017-08-29"
      ],
      "text/plain": [
       "[1] \"2017-08-29\""
      ]
     },
     "metadata": {},
     "output_type": "display_data"
    }
   ],
   "source": [
    "Sys.Date()"
   ]
  },
  {
   "cell_type": "code",
   "execution_count": 31,
   "metadata": {},
   "outputs": [
    {
     "data": {
      "text/html": [
       "'Tue Aug 29 14:23:21 2017'"
      ],
      "text/latex": [
       "'Tue Aug 29 14:23:21 2017'"
      ],
      "text/markdown": [
       "'Tue Aug 29 14:23:21 2017'"
      ],
      "text/plain": [
       "[1] \"Tue Aug 29 14:23:21 2017\""
      ]
     },
     "metadata": {},
     "output_type": "display_data"
    }
   ],
   "source": [
    "date()"
   ]
  },
  {
   "cell_type": "code",
   "execution_count": 32,
   "metadata": {},
   "outputs": [
    {
     "data": {
      "text/html": [
       "'八月 29 2017'"
      ],
      "text/latex": [
       "'八月 29 2017'"
      ],
      "text/markdown": [
       "'八月 29 2017'"
      ],
      "text/plain": [
       "[1] \"八月 29 2017\""
      ]
     },
     "metadata": {},
     "output_type": "display_data"
    }
   ],
   "source": [
    "today <- Sys.Date()\n",
    "format(today, format=\"%B %d %Y\")"
   ]
  },
  {
   "cell_type": "code",
   "execution_count": 33,
   "metadata": {},
   "outputs": [
    {
     "data": {
      "text/html": [
       "'星期二'"
      ],
      "text/latex": [
       "'星期二'"
      ],
      "text/markdown": [
       "'星期二'"
      ],
      "text/plain": [
       "[1] \"星期二\""
      ]
     },
     "metadata": {},
     "output_type": "display_data"
    }
   ],
   "source": [
    "format(today, format=\"%A\")"
   ]
  },
  {
   "cell_type": "code",
   "execution_count": 34,
   "metadata": {},
   "outputs": [
    {
     "data": {
      "text/plain": [
       "Time difference of 2535 days"
      ]
     },
     "metadata": {},
     "output_type": "display_data"
    }
   ],
   "source": [
    "startdate <- as.Date(\"2004-02-13\")\n",
    "enddate <- as.Date(\"2011-01-22\")\n",
    "days <- enddate - startdate\n",
    "days"
   ]
  },
  {
   "cell_type": "code",
   "execution_count": 35,
   "metadata": {},
   "outputs": [
    {
     "data": {
      "text/plain": [
       "Time difference of 1287.429 weeks"
      ]
     },
     "metadata": {},
     "output_type": "display_data"
    }
   ],
   "source": [
    "today <- Sys.Date()\n",
    "dob <- as.Date(\"1992-12-26\")\n",
    "difftime(today, dob, units = \"weeks\")"
   ]
  },
  {
   "cell_type": "markdown",
   "metadata": {},
   "source": [
    "```\n",
    "将日期值转换为字符型\n",
    "strDates <- as.character(dates)\n",
    "```"
   ]
  },
  {
   "cell_type": "markdown",
   "metadata": {},
   "source": [
    "```\n",
    "要了解字符型数据转换为日期的更多细节，请查看help(as.Date)和help(strftime)。\n",
    "要了解更多关于日期和时间格式的知识，请参考help(ISOdatetime)。 lubridate包中包含了\n",
    "许多简化日期处理的函数，可以用于识别和解析日期-时间数据，抽取日期—时间成分（例如年份、\n",
    "月份、日期等），以及对日期—时间值进行算术运算。如果你需要对日期进行复杂的计算，那么\n",
    "fCalendar包可能会有帮助。它提供了大量的日期处理函数，可以同时处理多个时区，并且提供\n",
    "了复杂的历法操作功能，支持工作日、周末以及假期\n",
    "```"
   ]
  },
  {
   "cell_type": "markdown",
   "metadata": {},
   "source": [
    "# 类型转换"
   ]
  },
  {
   "cell_type": "code",
   "execution_count": 36,
   "metadata": {},
   "outputs": [
    {
     "data": {
      "text/html": [
       "<ol class=list-inline>\n",
       "\t<li>1</li>\n",
       "\t<li>2</li>\n",
       "\t<li>3</li>\n",
       "</ol>\n"
      ],
      "text/latex": [
       "\\begin{enumerate*}\n",
       "\\item 1\n",
       "\\item 2\n",
       "\\item 3\n",
       "\\end{enumerate*}\n"
      ],
      "text/markdown": [
       "1. 1\n",
       "2. 2\n",
       "3. 3\n",
       "\n",
       "\n"
      ],
      "text/plain": [
       "[1] 1 2 3"
      ]
     },
     "metadata": {},
     "output_type": "display_data"
    }
   ],
   "source": [
    "a <- c(1,2,3)\n",
    "a"
   ]
  },
  {
   "cell_type": "code",
   "execution_count": 37,
   "metadata": {},
   "outputs": [
    {
     "data": {
      "text/html": [
       "TRUE"
      ],
      "text/latex": [
       "TRUE"
      ],
      "text/markdown": [
       "TRUE"
      ],
      "text/plain": [
       "[1] TRUE"
      ]
     },
     "metadata": {},
     "output_type": "display_data"
    }
   ],
   "source": [
    "is.numeric(a)"
   ]
  },
  {
   "cell_type": "code",
   "execution_count": 38,
   "metadata": {},
   "outputs": [
    {
     "data": {
      "text/html": [
       "TRUE"
      ],
      "text/latex": [
       "TRUE"
      ],
      "text/markdown": [
       "TRUE"
      ],
      "text/plain": [
       "[1] TRUE"
      ]
     },
     "metadata": {},
     "output_type": "display_data"
    }
   ],
   "source": [
    "is.vector(a)"
   ]
  },
  {
   "cell_type": "code",
   "execution_count": 39,
   "metadata": {
    "collapsed": true
   },
   "outputs": [],
   "source": [
    "a <- as.character(a)"
   ]
  },
  {
   "cell_type": "code",
   "execution_count": 40,
   "metadata": {},
   "outputs": [
    {
     "data": {
      "text/html": [
       "FALSE"
      ],
      "text/latex": [
       "FALSE"
      ],
      "text/markdown": [
       "FALSE"
      ],
      "text/plain": [
       "[1] FALSE"
      ]
     },
     "metadata": {},
     "output_type": "display_data"
    }
   ],
   "source": [
    "is.numeric(a)"
   ]
  },
  {
   "cell_type": "code",
   "execution_count": 41,
   "metadata": {},
   "outputs": [
    {
     "data": {
      "text/html": [
       "TRUE"
      ],
      "text/latex": [
       "TRUE"
      ],
      "text/markdown": [
       "TRUE"
      ],
      "text/plain": [
       "[1] TRUE"
      ]
     },
     "metadata": {},
     "output_type": "display_data"
    }
   ],
   "source": [
    "is.vector(a)"
   ]
  },
  {
   "cell_type": "code",
   "execution_count": 42,
   "metadata": {},
   "outputs": [
    {
     "data": {
      "text/html": [
       "TRUE"
      ],
      "text/latex": [
       "TRUE"
      ],
      "text/markdown": [
       "TRUE"
      ],
      "text/plain": [
       "[1] TRUE"
      ]
     },
     "metadata": {},
     "output_type": "display_data"
    }
   ],
   "source": [
    "is.character(a)"
   ]
  },
  {
   "cell_type": "markdown",
   "metadata": {},
   "source": [
    "# 数据排序"
   ]
  },
  {
   "cell_type": "code",
   "execution_count": 43,
   "metadata": {},
   "outputs": [
    {
     "data": {
      "text/html": [
       "<table>\n",
       "<thead><tr><th></th><th scope=col>managerID</th><th scope=col>TestDate</th><th scope=col>country</th><th scope=col>gender</th><th scope=col>age</th><th scope=col>q1</th><th scope=col>q2</th><th scope=col>q3</th><th scope=col>q4</th><th scope=col>q5</th><th scope=col>stringAsFactors</th><th scope=col>agecat</th></tr></thead>\n",
       "<tbody>\n",
       "\t<tr><th scope=row>3</th><td>3         </td><td>2008-10-01</td><td>UK        </td><td>F         </td><td>25        </td><td>3         </td><td>5         </td><td>5         </td><td> 5        </td><td> 2        </td><td>FALSE     </td><td>Young     </td></tr>\n",
       "\t<tr><th scope=row>1</th><td>1         </td><td>2008-10-24</td><td>US        </td><td>M         </td><td>32        </td><td>5         </td><td>4         </td><td>5         </td><td> 5        </td><td> 5        </td><td>FALSE     </td><td>Young     </td></tr>\n",
       "\t<tr><th scope=row>4</th><td>4         </td><td>2008-10-12</td><td>UK        </td><td>M         </td><td>39        </td><td>3         </td><td>3         </td><td>4         </td><td>NA        </td><td>NA        </td><td>FALSE     </td><td>Young     </td></tr>\n",
       "\t<tr><th scope=row>2</th><td>2         </td><td>2008-10-28</td><td>US        </td><td>F         </td><td>45        </td><td>3         </td><td>5         </td><td>2         </td><td> 5        </td><td> 5        </td><td>FALSE     </td><td>Young     </td></tr>\n",
       "\t<tr><th scope=row>5</th><td>5         </td><td>2009-05-01</td><td>UK        </td><td>F         </td><td>NA        </td><td>2         </td><td>2         </td><td>1         </td><td> 2        </td><td> 1        </td><td>FALSE     </td><td>NA        </td></tr>\n",
       "</tbody>\n",
       "</table>\n"
      ],
      "text/latex": [
       "\\begin{tabular}{r|llllllllllll}\n",
       "  & managerID & TestDate & country & gender & age & q1 & q2 & q3 & q4 & q5 & stringAsFactors & agecat\\\\\n",
       "\\hline\n",
       "\t3 & 3          & 2008-10-01 & UK         & F          & 25         & 3          & 5          & 5          &  5         &  2         & FALSE      & Young     \\\\\n",
       "\t1 & 1          & 2008-10-24 & US         & M          & 32         & 5          & 4          & 5          &  5         &  5         & FALSE      & Young     \\\\\n",
       "\t4 & 4          & 2008-10-12 & UK         & M          & 39         & 3          & 3          & 4          & NA         & NA         & FALSE      & Young     \\\\\n",
       "\t2 & 2          & 2008-10-28 & US         & F          & 45         & 3          & 5          & 2          &  5         &  5         & FALSE      & Young     \\\\\n",
       "\t5 & 5          & 2009-05-01 & UK         & F          & NA         & 2          & 2          & 1          &  2         &  1         & FALSE      & NA        \\\\\n",
       "\\end{tabular}\n"
      ],
      "text/markdown": [
       "\n",
       "| <!--/--> | managerID | TestDate | country | gender | age | q1 | q2 | q3 | q4 | q5 | stringAsFactors | agecat | \n",
       "|---|---|---|---|---|\n",
       "| 3 | 3          | 2008-10-01 | UK         | F          | 25         | 3          | 5          | 5          |  5         |  2         | FALSE      | Young      | \n",
       "| 1 | 1          | 2008-10-24 | US         | M          | 32         | 5          | 4          | 5          |  5         |  5         | FALSE      | Young      | \n",
       "| 4 | 4          | 2008-10-12 | UK         | M          | 39         | 3          | 3          | 4          | NA         | NA         | FALSE      | Young      | \n",
       "| 2 | 2          | 2008-10-28 | US         | F          | 45         | 3          | 5          | 2          |  5         |  5         | FALSE      | Young      | \n",
       "| 5 | 5          | 2009-05-01 | UK         | F          | NA         | 2          | 2          | 1          |  2         |  1         | FALSE      | NA         | \n",
       "\n",
       "\n"
      ],
      "text/plain": [
       "  managerID TestDate   country gender age q1 q2 q3 q4 q5 stringAsFactors agecat\n",
       "3 3         2008-10-01 UK      F      25  3  5  5   5  2 FALSE           Young \n",
       "1 1         2008-10-24 US      M      32  5  4  5   5  5 FALSE           Young \n",
       "4 4         2008-10-12 UK      M      39  3  3  4  NA NA FALSE           Young \n",
       "2 2         2008-10-28 US      F      45  3  5  2   5  5 FALSE           Young \n",
       "5 5         2009-05-01 UK      F      NA  2  2  1   2  1 FALSE           NA    "
      ]
     },
     "metadata": {},
     "output_type": "display_data"
    }
   ],
   "source": [
    "newdata <- leadership[order(leadership$age),]\n",
    "newdata"
   ]
  },
  {
   "cell_type": "code",
   "execution_count": 47,
   "metadata": {},
   "outputs": [
    {
     "name": "stderr",
     "output_type": "stream",
     "text": [
      "The following objects are masked _by_ .GlobalEnv:\n",
      "\n",
      "    age, country, gender, q1, q2, q3, q4, q5\n",
      "\n"
     ]
    },
    {
     "data": {
      "text/html": [
       "<table>\n",
       "<thead><tr><th></th><th scope=col>managerID</th><th scope=col>TestDate</th><th scope=col>country</th><th scope=col>gender</th><th scope=col>age</th><th scope=col>q1</th><th scope=col>q2</th><th scope=col>q3</th><th scope=col>q4</th><th scope=col>q5</th><th scope=col>stringAsFactors</th><th scope=col>agecat</th></tr></thead>\n",
       "<tbody>\n",
       "\t<tr><th scope=row>3</th><td>3         </td><td>2008-10-01</td><td>UK        </td><td>F         </td><td>25        </td><td>3         </td><td>5         </td><td>5         </td><td> 5        </td><td> 2        </td><td>FALSE     </td><td>Young     </td></tr>\n",
       "\t<tr><th scope=row>2</th><td>2         </td><td>2008-10-28</td><td>US        </td><td>F         </td><td>45        </td><td>3         </td><td>5         </td><td>2         </td><td> 5        </td><td> 5        </td><td>FALSE     </td><td>Young     </td></tr>\n",
       "\t<tr><th scope=row>5</th><td>5         </td><td>2009-05-01</td><td>UK        </td><td>F         </td><td>NA        </td><td>2         </td><td>2         </td><td>1         </td><td> 2        </td><td> 1        </td><td>FALSE     </td><td>NA        </td></tr>\n",
       "\t<tr><th scope=row>1</th><td>1         </td><td>2008-10-24</td><td>US        </td><td>M         </td><td>32        </td><td>5         </td><td>4         </td><td>5         </td><td> 5        </td><td> 5        </td><td>FALSE     </td><td>Young     </td></tr>\n",
       "\t<tr><th scope=row>4</th><td>4         </td><td>2008-10-12</td><td>UK        </td><td>M         </td><td>39        </td><td>3         </td><td>3         </td><td>4         </td><td>NA        </td><td>NA        </td><td>FALSE     </td><td>Young     </td></tr>\n",
       "</tbody>\n",
       "</table>\n"
      ],
      "text/latex": [
       "\\begin{tabular}{r|llllllllllll}\n",
       "  & managerID & TestDate & country & gender & age & q1 & q2 & q3 & q4 & q5 & stringAsFactors & agecat\\\\\n",
       "\\hline\n",
       "\t3 & 3          & 2008-10-01 & UK         & F          & 25         & 3          & 5          & 5          &  5         &  2         & FALSE      & Young     \\\\\n",
       "\t2 & 2          & 2008-10-28 & US         & F          & 45         & 3          & 5          & 2          &  5         &  5         & FALSE      & Young     \\\\\n",
       "\t5 & 5          & 2009-05-01 & UK         & F          & NA         & 2          & 2          & 1          &  2         &  1         & FALSE      & NA        \\\\\n",
       "\t1 & 1          & 2008-10-24 & US         & M          & 32         & 5          & 4          & 5          &  5         &  5         & FALSE      & Young     \\\\\n",
       "\t4 & 4          & 2008-10-12 & UK         & M          & 39         & 3          & 3          & 4          & NA         & NA         & FALSE      & Young     \\\\\n",
       "\\end{tabular}\n"
      ],
      "text/markdown": [
       "\n",
       "| <!--/--> | managerID | TestDate | country | gender | age | q1 | q2 | q3 | q4 | q5 | stringAsFactors | agecat | \n",
       "|---|---|---|---|---|\n",
       "| 3 | 3          | 2008-10-01 | UK         | F          | 25         | 3          | 5          | 5          |  5         |  2         | FALSE      | Young      | \n",
       "| 2 | 2          | 2008-10-28 | US         | F          | 45         | 3          | 5          | 2          |  5         |  5         | FALSE      | Young      | \n",
       "| 5 | 5          | 2009-05-01 | UK         | F          | NA         | 2          | 2          | 1          |  2         |  1         | FALSE      | NA         | \n",
       "| 1 | 1          | 2008-10-24 | US         | M          | 32         | 5          | 4          | 5          |  5         |  5         | FALSE      | Young      | \n",
       "| 4 | 4          | 2008-10-12 | UK         | M          | 39         | 3          | 3          | 4          | NA         | NA         | FALSE      | Young      | \n",
       "\n",
       "\n"
      ],
      "text/plain": [
       "  managerID TestDate   country gender age q1 q2 q3 q4 q5 stringAsFactors agecat\n",
       "3 3         2008-10-01 UK      F      25  3  5  5   5  2 FALSE           Young \n",
       "2 2         2008-10-28 US      F      45  3  5  2   5  5 FALSE           Young \n",
       "5 5         2009-05-01 UK      F      NA  2  2  1   2  1 FALSE           NA    \n",
       "1 1         2008-10-24 US      M      32  5  4  5   5  5 FALSE           Young \n",
       "4 4         2008-10-12 UK      M      39  3  3  4  NA NA FALSE           Young "
      ]
     },
     "metadata": {},
     "output_type": "display_data"
    }
   ],
   "source": [
    "attach(leadership)\n",
    "newdata <- leadership[order(gender,age),]\n",
    "detach(leadership)\n",
    "\n",
    "newdata"
   ]
  },
  {
   "cell_type": "code",
   "execution_count": 48,
   "metadata": {},
   "outputs": [
    {
     "name": "stderr",
     "output_type": "stream",
     "text": [
      "The following objects are masked _by_ .GlobalEnv:\n",
      "\n",
      "    age, country, gender, q1, q2, q3, q4, q5\n",
      "\n"
     ]
    },
    {
     "data": {
      "text/html": [
       "<table>\n",
       "<thead><tr><th></th><th scope=col>managerID</th><th scope=col>TestDate</th><th scope=col>country</th><th scope=col>gender</th><th scope=col>age</th><th scope=col>q1</th><th scope=col>q2</th><th scope=col>q3</th><th scope=col>q4</th><th scope=col>q5</th><th scope=col>stringAsFactors</th><th scope=col>agecat</th></tr></thead>\n",
       "<tbody>\n",
       "\t<tr><th scope=row>5</th><td>5         </td><td>2009-05-01</td><td>UK        </td><td>F         </td><td>NA        </td><td>2         </td><td>2         </td><td>1         </td><td> 2        </td><td> 1        </td><td>FALSE     </td><td>NA        </td></tr>\n",
       "\t<tr><th scope=row>2</th><td>2         </td><td>2008-10-28</td><td>US        </td><td>F         </td><td>45        </td><td>3         </td><td>5         </td><td>2         </td><td> 5        </td><td> 5        </td><td>FALSE     </td><td>Young     </td></tr>\n",
       "\t<tr><th scope=row>3</th><td>3         </td><td>2008-10-01</td><td>UK        </td><td>F         </td><td>25        </td><td>3         </td><td>5         </td><td>5         </td><td> 5        </td><td> 2        </td><td>FALSE     </td><td>Young     </td></tr>\n",
       "\t<tr><th scope=row>4</th><td>4         </td><td>2008-10-12</td><td>UK        </td><td>M         </td><td>39        </td><td>3         </td><td>3         </td><td>4         </td><td>NA        </td><td>NA        </td><td>FALSE     </td><td>Young     </td></tr>\n",
       "\t<tr><th scope=row>1</th><td>1         </td><td>2008-10-24</td><td>US        </td><td>M         </td><td>32        </td><td>5         </td><td>4         </td><td>5         </td><td> 5        </td><td> 5        </td><td>FALSE     </td><td>Young     </td></tr>\n",
       "</tbody>\n",
       "</table>\n"
      ],
      "text/latex": [
       "\\begin{tabular}{r|llllllllllll}\n",
       "  & managerID & TestDate & country & gender & age & q1 & q2 & q3 & q4 & q5 & stringAsFactors & agecat\\\\\n",
       "\\hline\n",
       "\t5 & 5          & 2009-05-01 & UK         & F          & NA         & 2          & 2          & 1          &  2         &  1         & FALSE      & NA        \\\\\n",
       "\t2 & 2          & 2008-10-28 & US         & F          & 45         & 3          & 5          & 2          &  5         &  5         & FALSE      & Young     \\\\\n",
       "\t3 & 3          & 2008-10-01 & UK         & F          & 25         & 3          & 5          & 5          &  5         &  2         & FALSE      & Young     \\\\\n",
       "\t4 & 4          & 2008-10-12 & UK         & M          & 39         & 3          & 3          & 4          & NA         & NA         & FALSE      & Young     \\\\\n",
       "\t1 & 1          & 2008-10-24 & US         & M          & 32         & 5          & 4          & 5          &  5         &  5         & FALSE      & Young     \\\\\n",
       "\\end{tabular}\n"
      ],
      "text/markdown": [
       "\n",
       "| <!--/--> | managerID | TestDate | country | gender | age | q1 | q2 | q3 | q4 | q5 | stringAsFactors | agecat | \n",
       "|---|---|---|---|---|\n",
       "| 5 | 5          | 2009-05-01 | UK         | F          | NA         | 2          | 2          | 1          |  2         |  1         | FALSE      | NA         | \n",
       "| 2 | 2          | 2008-10-28 | US         | F          | 45         | 3          | 5          | 2          |  5         |  5         | FALSE      | Young      | \n",
       "| 3 | 3          | 2008-10-01 | UK         | F          | 25         | 3          | 5          | 5          |  5         |  2         | FALSE      | Young      | \n",
       "| 4 | 4          | 2008-10-12 | UK         | M          | 39         | 3          | 3          | 4          | NA         | NA         | FALSE      | Young      | \n",
       "| 1 | 1          | 2008-10-24 | US         | M          | 32         | 5          | 4          | 5          |  5         |  5         | FALSE      | Young      | \n",
       "\n",
       "\n"
      ],
      "text/plain": [
       "  managerID TestDate   country gender age q1 q2 q3 q4 q5 stringAsFactors agecat\n",
       "5 5         2009-05-01 UK      F      NA  2  2  1   2  1 FALSE           NA    \n",
       "2 2         2008-10-28 US      F      45  3  5  2   5  5 FALSE           Young \n",
       "3 3         2008-10-01 UK      F      25  3  5  5   5  2 FALSE           Young \n",
       "4 4         2008-10-12 UK      M      39  3  3  4  NA NA FALSE           Young \n",
       "1 1         2008-10-24 US      M      32  5  4  5   5  5 FALSE           Young "
      ]
     },
     "metadata": {},
     "output_type": "display_data"
    }
   ],
   "source": [
    "attach(leadership)\n",
    "newdata <- leadership[order(gender,-age),]\n",
    "detach(leadership)\n",
    "\n",
    "newdata"
   ]
  },
  {
   "cell_type": "markdown",
   "metadata": {},
   "source": [
    "# 数据集合并"
   ]
  },
  {
   "cell_type": "markdown",
   "metadata": {},
   "source": [
    "## 添加列"
   ]
  },
  {
   "cell_type": "markdown",
   "metadata": {},
   "source": [
    "```\n",
    "total <- merge(dataframeA, dataframeB, by = \"ID\")\n",
    "total <- merge(dataframeA, dataframeB, by = c(\"ID\",\"Country\"))\n",
    "\n",
    "如果要直接横向合并两个矩阵或数据框，并且不需要指定一个公共索引，那么可以直接使用cbind()函数：total <- cbind(A, B)\n",
    "这个函数将横向合并对象A和对象B。为了让它正常工作，每个对象必须拥有相同的行数，且要以相同顺序排序。\n",
    "```"
   ]
  },
  {
   "cell_type": "markdown",
   "metadata": {},
   "source": [
    "## 添加行"
   ]
  },
  {
   "cell_type": "markdown",
   "metadata": {},
   "source": [
    "total <- rbind(dataframeA, dataframeB)"
   ]
  },
  {
   "cell_type": "markdown",
   "metadata": {},
   "source": [
    "# 数据集取子集"
   ]
  },
  {
   "cell_type": "markdown",
   "metadata": {},
   "source": [
    "## 法一"
   ]
  },
  {
   "cell_type": "code",
   "execution_count": 50,
   "metadata": {},
   "outputs": [
    {
     "data": {
      "text/html": [
       "<table>\n",
       "<thead><tr><th scope=col>q1</th><th scope=col>q2</th><th scope=col>q3</th><th scope=col>q4</th><th scope=col>q5</th></tr></thead>\n",
       "<tbody>\n",
       "\t<tr><td>5 </td><td>4 </td><td>5 </td><td> 5</td><td> 5</td></tr>\n",
       "\t<tr><td>3 </td><td>5 </td><td>2 </td><td> 5</td><td> 5</td></tr>\n",
       "\t<tr><td>3 </td><td>5 </td><td>5 </td><td> 5</td><td> 2</td></tr>\n",
       "\t<tr><td>3 </td><td>3 </td><td>4 </td><td>NA</td><td>NA</td></tr>\n",
       "\t<tr><td>2 </td><td>2 </td><td>1 </td><td> 2</td><td> 1</td></tr>\n",
       "</tbody>\n",
       "</table>\n"
      ],
      "text/latex": [
       "\\begin{tabular}{r|lllll}\n",
       " q1 & q2 & q3 & q4 & q5\\\\\n",
       "\\hline\n",
       "\t 5  & 4  & 5  &  5 &  5\\\\\n",
       "\t 3  & 5  & 2  &  5 &  5\\\\\n",
       "\t 3  & 5  & 5  &  5 &  2\\\\\n",
       "\t 3  & 3  & 4  & NA & NA\\\\\n",
       "\t 2  & 2  & 1  &  2 &  1\\\\\n",
       "\\end{tabular}\n"
      ],
      "text/markdown": [
       "\n",
       "q1 | q2 | q3 | q4 | q5 | \n",
       "|---|---|---|---|---|\n",
       "| 5  | 4  | 5  |  5 |  5 | \n",
       "| 3  | 5  | 2  |  5 |  5 | \n",
       "| 3  | 5  | 5  |  5 |  2 | \n",
       "| 3  | 3  | 4  | NA | NA | \n",
       "| 2  | 2  | 1  |  2 |  1 | \n",
       "\n",
       "\n"
      ],
      "text/plain": [
       "  q1 q2 q3 q4 q5\n",
       "1 5  4  5   5  5\n",
       "2 3  5  2   5  5\n",
       "3 3  5  5   5  2\n",
       "4 3  3  4  NA NA\n",
       "5 2  2  1   2  1"
      ]
     },
     "metadata": {},
     "output_type": "display_data"
    }
   ],
   "source": [
    "newdata <- leadership[, c(6:10)]\n",
    "newdata"
   ]
  },
  {
   "cell_type": "markdown",
   "metadata": {},
   "source": [
    "## 法二"
   ]
  },
  {
   "cell_type": "code",
   "execution_count": 51,
   "metadata": {},
   "outputs": [
    {
     "data": {
      "text/html": [
       "<table>\n",
       "<thead><tr><th scope=col>q1</th><th scope=col>q2</th><th scope=col>q3</th><th scope=col>q4</th><th scope=col>q5</th></tr></thead>\n",
       "<tbody>\n",
       "\t<tr><td>5 </td><td>4 </td><td>5 </td><td> 5</td><td> 5</td></tr>\n",
       "\t<tr><td>3 </td><td>5 </td><td>2 </td><td> 5</td><td> 5</td></tr>\n",
       "\t<tr><td>3 </td><td>5 </td><td>5 </td><td> 5</td><td> 2</td></tr>\n",
       "\t<tr><td>3 </td><td>3 </td><td>4 </td><td>NA</td><td>NA</td></tr>\n",
       "\t<tr><td>2 </td><td>2 </td><td>1 </td><td> 2</td><td> 1</td></tr>\n",
       "</tbody>\n",
       "</table>\n"
      ],
      "text/latex": [
       "\\begin{tabular}{r|lllll}\n",
       " q1 & q2 & q3 & q4 & q5\\\\\n",
       "\\hline\n",
       "\t 5  & 4  & 5  &  5 &  5\\\\\n",
       "\t 3  & 5  & 2  &  5 &  5\\\\\n",
       "\t 3  & 5  & 5  &  5 &  2\\\\\n",
       "\t 3  & 3  & 4  & NA & NA\\\\\n",
       "\t 2  & 2  & 1  &  2 &  1\\\\\n",
       "\\end{tabular}\n"
      ],
      "text/markdown": [
       "\n",
       "q1 | q2 | q3 | q4 | q5 | \n",
       "|---|---|---|---|---|\n",
       "| 5  | 4  | 5  |  5 |  5 | \n",
       "| 3  | 5  | 2  |  5 |  5 | \n",
       "| 3  | 5  | 5  |  5 |  2 | \n",
       "| 3  | 3  | 4  | NA | NA | \n",
       "| 2  | 2  | 1  |  2 |  1 | \n",
       "\n",
       "\n"
      ],
      "text/plain": [
       "  q1 q2 q3 q4 q5\n",
       "1 5  4  5   5  5\n",
       "2 3  5  2   5  5\n",
       "3 3  5  5   5  2\n",
       "4 3  3  4  NA NA\n",
       "5 2  2  1   2  1"
      ]
     },
     "metadata": {},
     "output_type": "display_data"
    }
   ],
   "source": [
    "myvars <- c(\"q1\",\"q2\",\"q3\",\"q4\",\"q5\")\n",
    "newdata <- leadership[myvars]\n",
    "\n",
    "newdata"
   ]
  },
  {
   "cell_type": "markdown",
   "metadata": {},
   "source": [
    "## 法三"
   ]
  },
  {
   "cell_type": "code",
   "execution_count": 52,
   "metadata": {},
   "outputs": [
    {
     "data": {
      "text/html": [
       "<ol class=list-inline>\n",
       "\t<li>'q1'</li>\n",
       "\t<li>'q2'</li>\n",
       "\t<li>'q3'</li>\n",
       "\t<li>'q4'</li>\n",
       "\t<li>'q5'</li>\n",
       "</ol>\n"
      ],
      "text/latex": [
       "\\begin{enumerate*}\n",
       "\\item 'q1'\n",
       "\\item 'q2'\n",
       "\\item 'q3'\n",
       "\\item 'q4'\n",
       "\\item 'q5'\n",
       "\\end{enumerate*}\n"
      ],
      "text/markdown": [
       "1. 'q1'\n",
       "2. 'q2'\n",
       "3. 'q3'\n",
       "4. 'q4'\n",
       "5. 'q5'\n",
       "\n",
       "\n"
      ],
      "text/plain": [
       "[1] \"q1\" \"q2\" \"q3\" \"q4\" \"q5\""
      ]
     },
     "metadata": {},
     "output_type": "display_data"
    }
   ],
   "source": [
    "myvars <- paste(\"q\",1:5, sep=\"\")\n",
    "myvars"
   ]
  },
  {
   "cell_type": "code",
   "execution_count": 53,
   "metadata": {},
   "outputs": [
    {
     "data": {
      "text/html": [
       "<table>\n",
       "<thead><tr><th scope=col>q1</th><th scope=col>q2</th><th scope=col>q3</th><th scope=col>q4</th><th scope=col>q5</th></tr></thead>\n",
       "<tbody>\n",
       "\t<tr><td>5 </td><td>4 </td><td>5 </td><td> 5</td><td> 5</td></tr>\n",
       "\t<tr><td>3 </td><td>5 </td><td>2 </td><td> 5</td><td> 5</td></tr>\n",
       "\t<tr><td>3 </td><td>5 </td><td>5 </td><td> 5</td><td> 2</td></tr>\n",
       "\t<tr><td>3 </td><td>3 </td><td>4 </td><td>NA</td><td>NA</td></tr>\n",
       "\t<tr><td>2 </td><td>2 </td><td>1 </td><td> 2</td><td> 1</td></tr>\n",
       "</tbody>\n",
       "</table>\n"
      ],
      "text/latex": [
       "\\begin{tabular}{r|lllll}\n",
       " q1 & q2 & q3 & q4 & q5\\\\\n",
       "\\hline\n",
       "\t 5  & 4  & 5  &  5 &  5\\\\\n",
       "\t 3  & 5  & 2  &  5 &  5\\\\\n",
       "\t 3  & 5  & 5  &  5 &  2\\\\\n",
       "\t 3  & 3  & 4  & NA & NA\\\\\n",
       "\t 2  & 2  & 1  &  2 &  1\\\\\n",
       "\\end{tabular}\n"
      ],
      "text/markdown": [
       "\n",
       "q1 | q2 | q3 | q4 | q5 | \n",
       "|---|---|---|---|---|\n",
       "| 5  | 4  | 5  |  5 |  5 | \n",
       "| 3  | 5  | 2  |  5 |  5 | \n",
       "| 3  | 5  | 5  |  5 |  2 | \n",
       "| 3  | 3  | 4  | NA | NA | \n",
       "| 2  | 2  | 1  |  2 |  1 | \n",
       "\n",
       "\n"
      ],
      "text/plain": [
       "  q1 q2 q3 q4 q5\n",
       "1 5  4  5   5  5\n",
       "2 3  5  2   5  5\n",
       "3 3  5  5   5  2\n",
       "4 3  3  4  NA NA\n",
       "5 2  2  1   2  1"
      ]
     },
     "metadata": {},
     "output_type": "display_data"
    }
   ],
   "source": [
    "newdata <- leadership[myvars]\n",
    "newdata"
   ]
  },
  {
   "cell_type": "markdown",
   "metadata": {},
   "source": [
    "# 剔除变量"
   ]
  },
  {
   "cell_type": "markdown",
   "metadata": {},
   "source": [
    "## 法一"
   ]
  },
  {
   "cell_type": "code",
   "execution_count": 55,
   "metadata": {},
   "outputs": [
    {
     "data": {
      "text/html": [
       "<table>\n",
       "<thead><tr><th scope=col>managerID</th><th scope=col>TestDate</th><th scope=col>country</th><th scope=col>gender</th><th scope=col>age</th><th scope=col>q1</th><th scope=col>q2</th><th scope=col>q5</th><th scope=col>stringAsFactors</th><th scope=col>agecat</th></tr></thead>\n",
       "<tbody>\n",
       "\t<tr><td>1         </td><td>2008-10-24</td><td>US        </td><td>M         </td><td>32        </td><td>5         </td><td>4         </td><td> 5        </td><td>FALSE     </td><td>Young     </td></tr>\n",
       "\t<tr><td>2         </td><td>2008-10-28</td><td>US        </td><td>F         </td><td>45        </td><td>3         </td><td>5         </td><td> 5        </td><td>FALSE     </td><td>Young     </td></tr>\n",
       "\t<tr><td>3         </td><td>2008-10-01</td><td>UK        </td><td>F         </td><td>25        </td><td>3         </td><td>5         </td><td> 2        </td><td>FALSE     </td><td>Young     </td></tr>\n",
       "\t<tr><td>4         </td><td>2008-10-12</td><td>UK        </td><td>M         </td><td>39        </td><td>3         </td><td>3         </td><td>NA        </td><td>FALSE     </td><td>Young     </td></tr>\n",
       "\t<tr><td>5         </td><td>2009-05-01</td><td>UK        </td><td>F         </td><td>NA        </td><td>2         </td><td>2         </td><td> 1        </td><td>FALSE     </td><td>NA        </td></tr>\n",
       "</tbody>\n",
       "</table>\n"
      ],
      "text/latex": [
       "\\begin{tabular}{r|llllllllll}\n",
       " managerID & TestDate & country & gender & age & q1 & q2 & q5 & stringAsFactors & agecat\\\\\n",
       "\\hline\n",
       "\t 1          & 2008-10-24 & US         & M          & 32         & 5          & 4          &  5         & FALSE      & Young     \\\\\n",
       "\t 2          & 2008-10-28 & US         & F          & 45         & 3          & 5          &  5         & FALSE      & Young     \\\\\n",
       "\t 3          & 2008-10-01 & UK         & F          & 25         & 3          & 5          &  2         & FALSE      & Young     \\\\\n",
       "\t 4          & 2008-10-12 & UK         & M          & 39         & 3          & 3          & NA         & FALSE      & Young     \\\\\n",
       "\t 5          & 2009-05-01 & UK         & F          & NA         & 2          & 2          &  1         & FALSE      & NA        \\\\\n",
       "\\end{tabular}\n"
      ],
      "text/markdown": [
       "\n",
       "managerID | TestDate | country | gender | age | q1 | q2 | q5 | stringAsFactors | agecat | \n",
       "|---|---|---|---|---|\n",
       "| 1          | 2008-10-24 | US         | M          | 32         | 5          | 4          |  5         | FALSE      | Young      | \n",
       "| 2          | 2008-10-28 | US         | F          | 45         | 3          | 5          |  5         | FALSE      | Young      | \n",
       "| 3          | 2008-10-01 | UK         | F          | 25         | 3          | 5          |  2         | FALSE      | Young      | \n",
       "| 4          | 2008-10-12 | UK         | M          | 39         | 3          | 3          | NA         | FALSE      | Young      | \n",
       "| 5          | 2009-05-01 | UK         | F          | NA         | 2          | 2          |  1         | FALSE      | NA         | \n",
       "\n",
       "\n"
      ],
      "text/plain": [
       "  managerID TestDate   country gender age q1 q2 q5 stringAsFactors agecat\n",
       "1 1         2008-10-24 US      M      32  5  4   5 FALSE           Young \n",
       "2 2         2008-10-28 US      F      45  3  5   5 FALSE           Young \n",
       "3 3         2008-10-01 UK      F      25  3  5   2 FALSE           Young \n",
       "4 4         2008-10-12 UK      M      39  3  3  NA FALSE           Young \n",
       "5 5         2009-05-01 UK      F      NA  2  2   1 FALSE           NA    "
      ]
     },
     "metadata": {},
     "output_type": "display_data"
    }
   ],
   "source": [
    "myvars <- names(leadership) %in% c(\"q3\",\"q4\")\n",
    "newdata <- leadership[!myvars]\n",
    "\n",
    "newdata"
   ]
  },
  {
   "cell_type": "markdown",
   "metadata": {},
   "source": [
    "## 法二"
   ]
  },
  {
   "cell_type": "code",
   "execution_count": 56,
   "metadata": {},
   "outputs": [
    {
     "data": {
      "text/html": [
       "<table>\n",
       "<thead><tr><th scope=col>managerID</th><th scope=col>TestDate</th><th scope=col>country</th><th scope=col>gender</th><th scope=col>age</th><th scope=col>q1</th><th scope=col>q2</th><th scope=col>q5</th><th scope=col>stringAsFactors</th><th scope=col>agecat</th></tr></thead>\n",
       "<tbody>\n",
       "\t<tr><td>1         </td><td>2008-10-24</td><td>US        </td><td>M         </td><td>32        </td><td>5         </td><td>4         </td><td> 5        </td><td>FALSE     </td><td>Young     </td></tr>\n",
       "\t<tr><td>2         </td><td>2008-10-28</td><td>US        </td><td>F         </td><td>45        </td><td>3         </td><td>5         </td><td> 5        </td><td>FALSE     </td><td>Young     </td></tr>\n",
       "\t<tr><td>3         </td><td>2008-10-01</td><td>UK        </td><td>F         </td><td>25        </td><td>3         </td><td>5         </td><td> 2        </td><td>FALSE     </td><td>Young     </td></tr>\n",
       "\t<tr><td>4         </td><td>2008-10-12</td><td>UK        </td><td>M         </td><td>39        </td><td>3         </td><td>3         </td><td>NA        </td><td>FALSE     </td><td>Young     </td></tr>\n",
       "\t<tr><td>5         </td><td>2009-05-01</td><td>UK        </td><td>F         </td><td>NA        </td><td>2         </td><td>2         </td><td> 1        </td><td>FALSE     </td><td>NA        </td></tr>\n",
       "</tbody>\n",
       "</table>\n"
      ],
      "text/latex": [
       "\\begin{tabular}{r|llllllllll}\n",
       " managerID & TestDate & country & gender & age & q1 & q2 & q5 & stringAsFactors & agecat\\\\\n",
       "\\hline\n",
       "\t 1          & 2008-10-24 & US         & M          & 32         & 5          & 4          &  5         & FALSE      & Young     \\\\\n",
       "\t 2          & 2008-10-28 & US         & F          & 45         & 3          & 5          &  5         & FALSE      & Young     \\\\\n",
       "\t 3          & 2008-10-01 & UK         & F          & 25         & 3          & 5          &  2         & FALSE      & Young     \\\\\n",
       "\t 4          & 2008-10-12 & UK         & M          & 39         & 3          & 3          & NA         & FALSE      & Young     \\\\\n",
       "\t 5          & 2009-05-01 & UK         & F          & NA         & 2          & 2          &  1         & FALSE      & NA        \\\\\n",
       "\\end{tabular}\n"
      ],
      "text/markdown": [
       "\n",
       "managerID | TestDate | country | gender | age | q1 | q2 | q5 | stringAsFactors | agecat | \n",
       "|---|---|---|---|---|\n",
       "| 1          | 2008-10-24 | US         | M          | 32         | 5          | 4          |  5         | FALSE      | Young      | \n",
       "| 2          | 2008-10-28 | US         | F          | 45         | 3          | 5          |  5         | FALSE      | Young      | \n",
       "| 3          | 2008-10-01 | UK         | F          | 25         | 3          | 5          |  2         | FALSE      | Young      | \n",
       "| 4          | 2008-10-12 | UK         | M          | 39         | 3          | 3          | NA         | FALSE      | Young      | \n",
       "| 5          | 2009-05-01 | UK         | F          | NA         | 2          | 2          |  1         | FALSE      | NA         | \n",
       "\n",
       "\n"
      ],
      "text/plain": [
       "  managerID TestDate   country gender age q1 q2 q5 stringAsFactors agecat\n",
       "1 1         2008-10-24 US      M      32  5  4   5 FALSE           Young \n",
       "2 2         2008-10-28 US      F      45  3  5   5 FALSE           Young \n",
       "3 3         2008-10-01 UK      F      25  3  5   2 FALSE           Young \n",
       "4 4         2008-10-12 UK      M      39  3  3  NA FALSE           Young \n",
       "5 5         2009-05-01 UK      F      NA  2  2   1 FALSE           NA    "
      ]
     },
     "metadata": {},
     "output_type": "display_data"
    }
   ],
   "source": [
    "newdata <- leadership[c(-8,-9)]\n",
    "newdata"
   ]
  },
  {
   "cell_type": "markdown",
   "metadata": {},
   "source": [
    "## 法三"
   ]
  },
  {
   "cell_type": "code",
   "execution_count": 57,
   "metadata": {},
   "outputs": [
    {
     "data": {
      "text/html": [
       "<table>\n",
       "<thead><tr><th scope=col>managerID</th><th scope=col>TestDate</th><th scope=col>country</th><th scope=col>gender</th><th scope=col>age</th><th scope=col>q1</th><th scope=col>q2</th><th scope=col>q5</th><th scope=col>stringAsFactors</th><th scope=col>agecat</th></tr></thead>\n",
       "<tbody>\n",
       "\t<tr><td>1         </td><td>2008-10-24</td><td>US        </td><td>M         </td><td>32        </td><td>5         </td><td>4         </td><td> 5        </td><td>FALSE     </td><td>Young     </td></tr>\n",
       "\t<tr><td>2         </td><td>2008-10-28</td><td>US        </td><td>F         </td><td>45        </td><td>3         </td><td>5         </td><td> 5        </td><td>FALSE     </td><td>Young     </td></tr>\n",
       "\t<tr><td>3         </td><td>2008-10-01</td><td>UK        </td><td>F         </td><td>25        </td><td>3         </td><td>5         </td><td> 2        </td><td>FALSE     </td><td>Young     </td></tr>\n",
       "\t<tr><td>4         </td><td>2008-10-12</td><td>UK        </td><td>M         </td><td>39        </td><td>3         </td><td>3         </td><td>NA        </td><td>FALSE     </td><td>Young     </td></tr>\n",
       "\t<tr><td>5         </td><td>2009-05-01</td><td>UK        </td><td>F         </td><td>NA        </td><td>2         </td><td>2         </td><td> 1        </td><td>FALSE     </td><td>NA        </td></tr>\n",
       "</tbody>\n",
       "</table>\n"
      ],
      "text/latex": [
       "\\begin{tabular}{r|llllllllll}\n",
       " managerID & TestDate & country & gender & age & q1 & q2 & q5 & stringAsFactors & agecat\\\\\n",
       "\\hline\n",
       "\t 1          & 2008-10-24 & US         & M          & 32         & 5          & 4          &  5         & FALSE      & Young     \\\\\n",
       "\t 2          & 2008-10-28 & US         & F          & 45         & 3          & 5          &  5         & FALSE      & Young     \\\\\n",
       "\t 3          & 2008-10-01 & UK         & F          & 25         & 3          & 5          &  2         & FALSE      & Young     \\\\\n",
       "\t 4          & 2008-10-12 & UK         & M          & 39         & 3          & 3          & NA         & FALSE      & Young     \\\\\n",
       "\t 5          & 2009-05-01 & UK         & F          & NA         & 2          & 2          &  1         & FALSE      & NA        \\\\\n",
       "\\end{tabular}\n"
      ],
      "text/markdown": [
       "\n",
       "managerID | TestDate | country | gender | age | q1 | q2 | q5 | stringAsFactors | agecat | \n",
       "|---|---|---|---|---|\n",
       "| 1          | 2008-10-24 | US         | M          | 32         | 5          | 4          |  5         | FALSE      | Young      | \n",
       "| 2          | 2008-10-28 | US         | F          | 45         | 3          | 5          |  5         | FALSE      | Young      | \n",
       "| 3          | 2008-10-01 | UK         | F          | 25         | 3          | 5          |  2         | FALSE      | Young      | \n",
       "| 4          | 2008-10-12 | UK         | M          | 39         | 3          | 3          | NA         | FALSE      | Young      | \n",
       "| 5          | 2009-05-01 | UK         | F          | NA         | 2          | 2          |  1         | FALSE      | NA         | \n",
       "\n",
       "\n"
      ],
      "text/plain": [
       "  managerID TestDate   country gender age q1 q2 q5 stringAsFactors agecat\n",
       "1 1         2008-10-24 US      M      32  5  4   5 FALSE           Young \n",
       "2 2         2008-10-28 US      F      45  3  5   5 FALSE           Young \n",
       "3 3         2008-10-01 UK      F      25  3  5   2 FALSE           Young \n",
       "4 4         2008-10-12 UK      M      39  3  3  NA FALSE           Young \n",
       "5 5         2009-05-01 UK      F      NA  2  2   1 FALSE           NA    "
      ]
     },
     "metadata": {},
     "output_type": "display_data"
    }
   ],
   "source": [
    "leadership$q3 <- leadership$q4 <- NULL\n",
    "leadership"
   ]
  },
  {
   "cell_type": "markdown",
   "metadata": {},
   "source": [
    "这回你将q3和q4两列设为了未定义（NULL）。注意， NULL与NA（表示缺失）是不同的"
   ]
  },
  {
   "cell_type": "markdown",
   "metadata": {},
   "source": [
    "# 选入观测"
   ]
  },
  {
   "cell_type": "markdown",
   "metadata": {},
   "source": [
    "## 法一"
   ]
  },
  {
   "cell_type": "code",
   "execution_count": 58,
   "metadata": {},
   "outputs": [
    {
     "data": {
      "text/html": [
       "<table>\n",
       "<thead><tr><th></th><th scope=col>managerID</th><th scope=col>TestDate</th><th scope=col>country</th><th scope=col>gender</th><th scope=col>age</th><th scope=col>q1</th><th scope=col>q2</th><th scope=col>q5</th><th scope=col>stringAsFactors</th><th scope=col>agecat</th></tr></thead>\n",
       "<tbody>\n",
       "\t<tr><th scope=row>1</th><td>1         </td><td>2008-10-24</td><td>US        </td><td>M         </td><td>32        </td><td>5         </td><td>4         </td><td> 5        </td><td>FALSE     </td><td>Young     </td></tr>\n",
       "\t<tr><th scope=row>4</th><td>4         </td><td>2008-10-12</td><td>UK        </td><td>M         </td><td>39        </td><td>3         </td><td>3         </td><td>NA        </td><td>FALSE     </td><td>Young     </td></tr>\n",
       "</tbody>\n",
       "</table>\n"
      ],
      "text/latex": [
       "\\begin{tabular}{r|llllllllll}\n",
       "  & managerID & TestDate & country & gender & age & q1 & q2 & q5 & stringAsFactors & agecat\\\\\n",
       "\\hline\n",
       "\t1 & 1          & 2008-10-24 & US         & M          & 32         & 5          & 4          &  5         & FALSE      & Young     \\\\\n",
       "\t4 & 4          & 2008-10-12 & UK         & M          & 39         & 3          & 3          & NA         & FALSE      & Young     \\\\\n",
       "\\end{tabular}\n"
      ],
      "text/markdown": [
       "\n",
       "| <!--/--> | managerID | TestDate | country | gender | age | q1 | q2 | q5 | stringAsFactors | agecat | \n",
       "|---|---|\n",
       "| 1 | 1          | 2008-10-24 | US         | M          | 32         | 5          | 4          |  5         | FALSE      | Young      | \n",
       "| 4 | 4          | 2008-10-12 | UK         | M          | 39         | 3          | 3          | NA         | FALSE      | Young      | \n",
       "\n",
       "\n"
      ],
      "text/plain": [
       "  managerID TestDate   country gender age q1 q2 q5 stringAsFactors agecat\n",
       "1 1         2008-10-24 US      M      32  5  4   5 FALSE           Young \n",
       "4 4         2008-10-12 UK      M      39  3  3  NA FALSE           Young "
      ]
     },
     "metadata": {},
     "output_type": "display_data"
    }
   ],
   "source": [
    "newdata <- leadership[1:3,]\n",
    "newdata <- leadership[which(leadership$gender==\"M\" & \n",
    "                           leadership$age >30),]\n",
    "\n",
    "newdata"
   ]
  },
  {
   "cell_type": "markdown",
   "metadata": {},
   "source": [
    "## 法二"
   ]
  },
  {
   "cell_type": "code",
   "execution_count": 59,
   "metadata": {},
   "outputs": [
    {
     "name": "stderr",
     "output_type": "stream",
     "text": [
      "The following objects are masked _by_ .GlobalEnv:\n",
      "\n",
      "    age, country, gender, q1, q2, q5\n",
      "\n"
     ]
    },
    {
     "data": {
      "text/html": [
       "<table>\n",
       "<thead><tr><th></th><th scope=col>managerID</th><th scope=col>TestDate</th><th scope=col>country</th><th scope=col>gender</th><th scope=col>age</th><th scope=col>q1</th><th scope=col>q2</th><th scope=col>q5</th><th scope=col>stringAsFactors</th><th scope=col>agecat</th></tr></thead>\n",
       "<tbody>\n",
       "\t<tr><th scope=row>1</th><td>1         </td><td>2008-10-24</td><td>US        </td><td>M         </td><td>32        </td><td>5         </td><td>4         </td><td> 5        </td><td>FALSE     </td><td>Young     </td></tr>\n",
       "\t<tr><th scope=row>4</th><td>4         </td><td>2008-10-12</td><td>UK        </td><td>M         </td><td>39        </td><td>3         </td><td>3         </td><td>NA        </td><td>FALSE     </td><td>Young     </td></tr>\n",
       "</tbody>\n",
       "</table>\n"
      ],
      "text/latex": [
       "\\begin{tabular}{r|llllllllll}\n",
       "  & managerID & TestDate & country & gender & age & q1 & q2 & q5 & stringAsFactors & agecat\\\\\n",
       "\\hline\n",
       "\t1 & 1          & 2008-10-24 & US         & M          & 32         & 5          & 4          &  5         & FALSE      & Young     \\\\\n",
       "\t4 & 4          & 2008-10-12 & UK         & M          & 39         & 3          & 3          & NA         & FALSE      & Young     \\\\\n",
       "\\end{tabular}\n"
      ],
      "text/markdown": [
       "\n",
       "| <!--/--> | managerID | TestDate | country | gender | age | q1 | q2 | q5 | stringAsFactors | agecat | \n",
       "|---|---|\n",
       "| 1 | 1          | 2008-10-24 | US         | M          | 32         | 5          | 4          |  5         | FALSE      | Young      | \n",
       "| 4 | 4          | 2008-10-12 | UK         | M          | 39         | 3          | 3          | NA         | FALSE      | Young      | \n",
       "\n",
       "\n"
      ],
      "text/plain": [
       "  managerID TestDate   country gender age q1 q2 q5 stringAsFactors agecat\n",
       "1 1         2008-10-24 US      M      32  5  4   5 FALSE           Young \n",
       "4 4         2008-10-12 UK      M      39  3  3  NA FALSE           Young "
      ]
     },
     "metadata": {},
     "output_type": "display_data"
    }
   ],
   "source": [
    "attach(leadership)\n",
    "newdata <- leadership[which(gender==\"M\" & age > 30),]\n",
    "detach(leadership)\n",
    "\n",
    "newdata"
   ]
  },
  {
   "cell_type": "code",
   "execution_count": null,
   "metadata": {
    "collapsed": true
   },
   "outputs": [],
   "source": [
    "leadership$TestDate <- as.Date(leadership$TestDate,\"%m/%d/%y\")\n",
    "startdate <- as.Date(\"2009-01-01\")\n",
    "enddate <- as.Date(\"2009-10-31\")\n",
    "newdata "
   ]
  }
 ],
 "metadata": {
  "kernelspec": {
   "display_name": "R",
   "language": "R",
   "name": "ir"
  },
  "language_info": {
   "codemirror_mode": "r",
   "file_extension": ".r",
   "mimetype": "text/x-r-source",
   "name": "R",
   "pygments_lexer": "r",
   "version": "3.4.0"
  },
  "latex_envs": {
   "LaTeX_envs_menu_present": true,
   "autocomplete": true,
   "bibliofile": "biblio.bib",
   "cite_by": "apalike",
   "current_citInitial": 1,
   "eqLabelWithNumbers": true,
   "eqNumInitial": 1,
   "hotkeys": {
    "equation": "Ctrl-E",
    "itemize": "Ctrl-I"
   },
   "labels_anchors": false,
   "latex_user_defs": false,
   "report_style_numbering": false,
   "user_envs_cfg": false
  },
  "toc": {
   "colors": {
    "hover_highlight": "#DAA520",
    "running_highlight": "#FF0000",
    "selected_highlight": "#FFD700"
   },
   "moveMenuLeft": true,
   "nav_menu": {
    "height": "512px",
    "width": "252px"
   },
   "navigate_menu": true,
   "number_sections": true,
   "sideBar": true,
   "threshold": 4,
   "toc_cell": false,
   "toc_section_display": "block",
   "toc_window_display": true,
   "widenNotebook": false
  }
 },
 "nbformat": 4,
 "nbformat_minor": 2
}
